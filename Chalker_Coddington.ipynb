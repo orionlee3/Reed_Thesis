{
 "cells": [
  {
   "cell_type": "code",
   "execution_count": 1,
   "metadata": {},
   "outputs": [],
   "source": [
    "import numpy as np\n",
    "from numpy.linalg import multi_dot\n",
    "from numpy.linalg import qr\n",
    "import numpy.linalg as npla\n",
    "import scipy as sp\n",
    "from scipy.linalg import block_diag, logm, eigvals\n",
    "from multiprocessing import Pool\n",
    "from functools import partial\n",
    "import multiprocessing as mp\n",
    "from multiprocessing import set_start_method\n",
    "from multiprocessing import get_context\n",
    "import joblib\n",
    "import matplotlib.pyplot as plt\n",
    "import time\n",
    "from scipy.linalg import lu"
   ]
  },
  {
   "cell_type": "code",
   "execution_count": 17,
   "metadata": {},
   "outputs": [],
   "source": [
    "theta = np.pi/4\n",
    "theta_prime = np.arccosh(1/np.tanh(theta))\n",
    "cosh = np.cosh(theta)\n",
    "sinh = np.sinh(theta)\n",
    "sinh_prime = np.sinh(theta_prime)\n",
    "width = int(4)\n",
    "\n",
    "aphases = (2*np.pi)*np.random.random_sample(2*width)\n",
    "cphases = (2*np.pi)*np.random.random_sample(2*width)\n",
    "\n",
    "\n",
    "def uMat(cosh,sinh,width):\n",
    "    \n",
    "    \n",
    "    amat = np.zeros((2*width,2*width), dtype = 'complex_')\n",
    "    bmat = np.zeros((2*width,2*width), dtype = 'complex_')\n",
    "    cmat = np.zeros((2*width,2*width), dtype = 'complex_')\n",
    "    dmat = np.zeros((2*width,2*width), dtype = 'complex_')\n",
    "    \n",
    "    \n",
    "    for i in range(2*width):\n",
    "        amat[i,i] = np.exp(1j*aphases[i])\n",
    "        cmat[i,i] = np.exp(1j*cphases[i])\n",
    "        dmat[i,i] = cosh\n",
    "        bmat[i,i] = sinh_prime\n",
    "    for i in range(int(width/2 - 1)):\n",
    "        dmat[2*i+1,2*i] = sinh\n",
    "        dmat[2*i,2*i+1] = sinh\n",
    "    for i in range(int(width/2)):\n",
    "        bmat[2*i,2*i-1] = sinh_prime\n",
    "        bmat[2*i-1,2*i] = sinh_prime\n",
    "    dmat[0,2*width - 1] = sinh\n",
    "    dmat[2*width-1 ,0] = sinh\n",
    "    \n",
    "    return multi_dot([amat,bmat,cmat,dmat])\n",
    "\n",
    "test = uMat(cosh,sinh,width)"
   ]
  },
  {
   "cell_type": "code",
   "execution_count": 20,
   "metadata": {},
   "outputs": [
    {
     "data": {
      "text/plain": [
       "5.428863903979986e-31"
      ]
     },
     "execution_count": 20,
     "metadata": {},
     "output_type": "execute_result"
    }
   ],
   "source": [
    "abs(npla.det(test))"
   ]
  },
  {
   "cell_type": "code",
   "execution_count": null,
   "metadata": {},
   "outputs": [],
   "source": []
  }
 ],
 "metadata": {
  "kernelspec": {
   "display_name": "Python 3",
   "language": "python",
   "name": "python3"
  },
  "language_info": {
   "codemirror_mode": {
    "name": "ipython",
    "version": 3
   },
   "file_extension": ".py",
   "mimetype": "text/x-python",
   "name": "python",
   "nbconvert_exporter": "python",
   "pygments_lexer": "ipython3",
   "version": "3.7.5"
  }
 },
 "nbformat": 4,
 "nbformat_minor": 4
}
