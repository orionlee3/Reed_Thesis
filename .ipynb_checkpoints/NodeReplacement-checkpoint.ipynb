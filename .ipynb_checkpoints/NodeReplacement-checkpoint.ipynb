{
 "cells": [
  {
   "cell_type": "code",
   "execution_count": 6,
   "metadata": {},
   "outputs": [],
   "source": [
    "import numpy as np\n",
    "from numpy.linalg import multi_dot\n",
    "from numpy.linalg import qr\n",
    "import numpy.linalg as npla\n",
    "import scipy as sp\n",
    "from scipy.linalg import block_diag, logm, eigvals\n",
    "from multiprocessing import Pool\n",
    "from functools import partial\n",
    "import multiprocessing as mp\n",
    "from multiprocessing import set_start_method\n",
    "from multiprocessing import get_context\n",
    "import matplotlib.pyplot as plt\n",
    "import time\n",
    "from scipy.linalg import lu\n",
    "'''\n",
    "All the matrix construction functions are defined in this file, they include\n",
    "\n",
    "TAMatrix\n",
    "TBMatrix\n",
    "TAReplace\n",
    "TBReplace\n",
    "\n",
    "All functions take arguments (sin,cos)\n",
    "They are all 2x2 np.arrays\n",
    "'''\n",
    "from matrix_constructions import *"
   ]
  },
  {
   "cell_type": "code",
   "execution_count": null,
   "metadata": {},
   "outputs": [],
   "source": []
  },
  {
   "cell_type": "code",
   "execution_count": 7,
   "metadata": {},
   "outputs": [],
   "source": [
    "#This function constructs full strips with width = strip_width\n",
    "def FullStrip(sin,cos,strip_width,probability_cutoff): #np.array 2strip_width x 2strip_width\n",
    "    \n",
    "        #we construct TAS for TA type strips and multiply by TB type strips\n",
    "        #this means our length is really 2x our strip_length followig the convention of CC\n",
    "        #probability cutoff is first introduced here to replace specific nodes in both types of strips\n",
    "        \n",
    "        def TAS(sin,cos,strip_width,probability_cutoff):\n",
    "            \n",
    "            TAProbabilities = np.random.random_sample(strip_width)\n",
    "            \n",
    "            Tslist = [ \n",
    "                TAMatrix(sin,cos) if i < probability_cutoff \n",
    "                else TAReplace(sin,cos) for i in TAProbabilities\n",
    "            ]\n",
    "            \n",
    "            return block_diag(*Tslist)\n",
    "\n",
    "        \n",
    "        def TBS(sin,cos,strip_width,probability_cutoff): \n",
    "            \n",
    "            TBProbabilities = np.random.random_sample(strip_width-1)\n",
    "            \n",
    "            Tslist = [ \n",
    "                TBMatrix(sin,cos)if i < probability_cutoff\n",
    "                else TBReplace(sin,cos) for i in TBProbabilities\n",
    "            ]\n",
    "            \n",
    "            extra = TBMatrix(sin,cos)\n",
    "            temp_mat = block_diag(extra[1,1],*Tslist,extra[0,0])    \n",
    "            temp_mat[0,(2*strip_width)-1] = extra[1,0]\n",
    "            temp_mat[(2*strip_width)-1,0] = extra[0,1]\n",
    "            return temp_mat\n",
    "    \n",
    "        return np.matmul(TAS(sin,cos,strip_width,probability_cutoff),\n",
    "                         TBS(sin,cos,strip_width,probability_cutoff))\n",
    "\n"
   ]
  },
  {
   "cell_type": "code",
   "execution_count": 8,
   "metadata": {},
   "outputs": [],
   "source": [
    "#Full Transfer multiples a bunch of strips together\n",
    "#This is where the QR/LU is performed to actaully do the computation\n",
    "#This is the last function that is run\n",
    "\n",
    "def FullTransfer(strip_length,strip_width,probability_cutoff, theta): #Returns np.array with length 2strip_width \n",
    "    #Saving values of Sin and Cos\n",
    "    sin = np.sin(theta)\n",
    "    cos = np.cos(theta)\n",
    "    \n",
    "    #Group_val describes how often the LU is carried out\n",
    "    group_val = 8\n",
    "    \n",
    "    #creating matricies\n",
    "    matricies = [FullStrip(sin,cos,strip_width,probability_cutoff) for i in range(strip_length)]\n",
    "    #splitting matricies\n",
    "    every_nth = [multi_dot(matricies[i:i+group_val]) for i in range(int(strip_length/group_val))]\n",
    "    \n",
    "    #This step is proved by induction, find in literature\n",
    "    Tone = matricies[0]\n",
    "    pone,lone,uone = lu(Tone)\n",
    "    bigQ = np.matmul(pone,lone)\n",
    "    rlog_one = np.log(np.absolute(uone.diagonal()))\n",
    "    \n",
    "    for n,i in enumerate(every_nth):\n",
    "        matrixb = np.matmul(i,bigQ)\n",
    "        p,l,u = lu(matrixb)\n",
    "        bigQ = np.matmul(p,l)\n",
    "        rlogs = np.log(np.absolute(u.diagonal()))\n",
    "        rlog_one = np.add(rlogs,rlog_one)\n",
    "        #autosave every 50000\n",
    "        if ( n % 50000):\n",
    "            np.save('matrix_logs/LULogQ.npy', bigQ)\n",
    "            np.save('matrix_logs/LULogR.npy',rlog_one)\n",
    "    return (rlog_one)"
   ]
  },
  {
   "cell_type": "code",
   "execution_count": null,
   "metadata": {},
   "outputs": [],
   "source": [
    "strip_length = int(10000)\n",
    "#strip_width here is actually 2x what the \"physical\" result is but will give a matrix that is 2x the specified size\n",
    "strip_width = int(16)\n",
    "\n",
    "#probability cutoff specified here\n",
    "probability_cutoff = 1.0\n",
    "\n",
    "#energy is set here\n",
    "theta_crit =np.pi/4\n",
    "\n",
    "start_time = time.time()\n",
    "\n",
    "#theta values\n",
    "theta_list = np.linspace(theta_crit,1.5,15)\n",
    "\n",
    "partial_func = partial(FullTransfer,strip_length,strip_width,probability_cutoff)\n",
    "p = get_context(\"fork\").Pool()\n",
    "\n",
    "#using multiple cores here\n",
    "final_array= p.map(partial_func, theta_list)\n",
    "\n",
    "\n",
    "np.save('results/length1000_width8_pi4_probhalf.npy',final_array)\n",
    "print(\"--- %s minutes---\" % ((time.time() - start_time)/60))"
   ]
  },
  {
   "cell_type": "code",
   "execution_count": null,
   "metadata": {},
   "outputs": [],
   "source": [
    "plt.scatter([i for i in range(strip_width * 2)],final_array[1])\n"
   ]
  },
  {
   "cell_type": "code",
   "execution_count": 13,
   "metadata": {},
   "outputs": [
    {
     "data": {
      "text/plain": [
       "32"
      ]
     },
     "execution_count": 13,
     "metadata": {},
     "output_type": "execute_result"
    }
   ],
   "source": [
    "len(final_array[0])"
   ]
  },
  {
   "cell_type": "code",
   "execution_count": 18,
   "metadata": {},
   "outputs": [
    {
     "data": {
      "text/plain": [
       "32"
      ]
     },
     "execution_count": 18,
     "metadata": {},
     "output_type": "execute_result"
    }
   ],
   "source": [
    "len(test)"
   ]
  },
  {
   "cell_type": "code",
   "execution_count": null,
   "metadata": {},
   "outputs": [],
   "source": []
  }
 ],
 "metadata": {
  "kernelspec": {
   "display_name": "Python 3",
   "language": "python",
   "name": "python3"
  },
  "language_info": {
   "codemirror_mode": {
    "name": "ipython",
    "version": 3
   },
   "file_extension": ".py",
   "mimetype": "text/x-python",
   "name": "python",
   "nbconvert_exporter": "python",
   "pygments_lexer": "ipython3",
   "version": "3.7.5"
  }
 },
 "nbformat": 4,
 "nbformat_minor": 4
}
