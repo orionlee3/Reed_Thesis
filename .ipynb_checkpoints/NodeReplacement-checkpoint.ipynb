{
 "cells": [
  {
   "cell_type": "code",
   "execution_count": 2,
   "metadata": {},
   "outputs": [],
   "source": [
    "import numpy as np\n",
    "from numpy.linalg import multi_dot\n",
    "from numpy.linalg import qr\n",
    "import numpy.linalg as npla\n",
    "import scipy as sp\n",
    "from scipy.linalg import block_diag, logm, eigvals\n",
    "from multiprocessing import Pool\n",
    "from functools import partial\n",
    "import multiprocessing as mp\n",
    "from multiprocessing import set_start_method\n",
    "from multiprocessing import get_context\n",
    "import joblib\n",
    "import matplotlib.pyplot as plt\n",
    "import time\n",
    "from scipy.linalg import lu"
   ]
  },
  {
   "cell_type": "code",
   "execution_count": 3,
   "metadata": {},
   "outputs": [],
   "source": [
    "def TAMatrix(sin,cos):\n",
    "    \n",
    "    phases = (2*np.pi)*np.random.random_sample(3)\n",
    "    \n",
    "    matrix_one = np.array([[1,0],[0,np.exp(-1j*phases[0])]])\n",
    "    matrix_two = np.array([[1,-sin],[-sin,1]])\n",
    "    matrix_three = np.array([[np.exp(1j*phases[1]),0],[0,np.exp(-1j*phases[2])]])\n",
    "\n",
    "    return (1/cos)*multi_dot([matrix_one,matrix_two,matrix_three])\n",
    "            \n",
    "def TBMatrix(sin,cos):   \n",
    "    \n",
    "    phases = (2*np.pi)*np.random.random_sample(3)\n",
    "    \n",
    "    matrix_one = np.array([[np.exp(-1j*phases[1]),0],[0,np.exp(1j*phases[0])]])\n",
    "    matrix_two = np.array([[1,cos],[cos,1]])\n",
    "    matrix_three = np.array([[-1,0],[0,np.exp(1j*phases[2])]])\n",
    "\n",
    "    return (1/sin*multi_dot([matrix_one,matrix_two,matrix_three]))\n",
    "\n",
    "def TAReplace(sin,cos):\n",
    "    TAmatricies = [TAMatrix(sin,cos) for i in range(4)]\n",
    "    TBmatricies = TBMatrix(sin,cos)\n",
    "    \n",
    "    M = multi_dot([\n",
    "            block_diag(TAmatricies[0],TAmatricies[1]),\n",
    "            block_diag(1,TBmatricies,1),\n",
    "            block_diag(TAmatricies[2],TAmatricies[3])\n",
    "    ])\n",
    "\n",
    "    new_TA = np.zeros((2,2), dtype = 'complex_')\n",
    "    denominator = (M[2,1]+M[2,2]-M[1,1]-M[1,2])\n",
    "    new_TA[0,0] = M[0,0] + (((M[0,1] + M[0,2])*(M[1,0]-M[2,0]))/denominator)\n",
    "    new_TA[0,1] = M[0,3] + (((M[0,1] + M[0,2])*(M[1,3]-M[2,3]))/denominator)\n",
    "    new_TA[1,0] = M[3,0] + (((M[3,1] + M[3,2])*(M[1,0]-M[2,0]))/denominator)\n",
    "    new_TA[1,1] = M[3,3] + (((M[3,1] + M[3,2])*(M[1,3]-M[2,3]))/denominator)\n",
    "\n",
    "    return new_TA\n",
    "\n",
    "def TBReplace(sin,cos):\n",
    "    TBmatricies = [TBMatrix(sin,cos) for i in range(4)]\n",
    "    TAmatricies = TAMatrix(sin,cos)\n",
    "    \n",
    "    M = multi_dot([\n",
    "            block_diag(TBmatricies[0],TBmatricies[1]),\n",
    "            block_diag(1,TAmatricies,1),\n",
    "            block_diag(TBmatricies[2],TBmatricies[3])\n",
    "    ])\n",
    "\n",
    "    new_TB = np.zeros((2,2), dtype = 'complex_')\n",
    "    denominator = (M[2,1]+M[2,2]-M[1,1]-M[1,2])\n",
    "    new_TB[0,0] = M[0,0] + (((M[0,1] + M[0,2])*(M[1,0]-M[2,0]))/denominator)\n",
    "    new_TB[0,1] = M[0,3] + (((M[0,1] + M[0,2])*(M[1,3]-M[2,3]))/denominator)\n",
    "    new_TB[1,0] = M[3,0] + (((M[3,1] + M[3,2])*(M[1,0]-M[2,0]))/denominator)\n",
    "    new_TB[1,1] = M[3,3] + (((M[3,1] + M[3,2])*(M[1,3]-M[2,3]))/denominator)\n",
    "\n",
    "    return new_TB\n",
    "    \n"
   ]
  },
  {
   "cell_type": "code",
   "execution_count": 4,
   "metadata": {},
   "outputs": [],
   "source": [
    "def FullStrip(sin,cos,strip_width,probability_cutoff):\n",
    "        \n",
    "        def TAS(sin,cos,strip_width,probability_cutoff):\n",
    "            \n",
    "            TAProbabilities = np.random.random_sample(strip_width)\n",
    "            \n",
    "            Tslist = [ \n",
    "                TAMatrix(sin,cos) if i < probability_cutoff \n",
    "                else TAReplace(sin,cos) for i in TAProbabilities\n",
    "            ]\n",
    "            \n",
    "            return block_diag(*Tslist)\n",
    "\n",
    "        \n",
    "        def TBS(sin,cos,strip_width,probability_cutoff):\n",
    "            \n",
    "            TBProbabilities = np.random.random_sample(strip_width-1)\n",
    "            \n",
    "            Tslist = [ \n",
    "                TBMatrix(sin,cos)if i < probability_cutoff\n",
    "                else TBReplace(sin,cos) for i in TBProbabilities\n",
    "            ]\n",
    "            \n",
    "            extra = TBMatrix(sin,cos)\n",
    "            temp_mat = block_diag(extra[1,1],*Tslist,extra[0,0])    \n",
    "            temp_mat[0,(2*strip_width)-1] = extra[1,0]\n",
    "            temp_mat[(2*strip_width)-1,0] = extra[0,1]\n",
    "            return temp_mat\n",
    "    \n",
    "        return np.matmul(TAS(sin,cos,strip_width,probability_cutoff),\n",
    "                         TBS(sin,cos,strip_width,probability_cutoff))\n",
    "\n"
   ]
  },
  {
   "cell_type": "code",
   "execution_count": 5,
   "metadata": {},
   "outputs": [
    {
     "ename": "NameError",
     "evalue": "name 'theta' is not defined",
     "output_type": "error",
     "traceback": [
      "\u001b[0;31m---------------------------------------------------------------------------\u001b[0m",
      "\u001b[0;31mNameError\u001b[0m                                 Traceback (most recent call last)",
      "\u001b[0;32m<ipython-input-5-e984eaae856d>\u001b[0m in \u001b[0;36m<module>\u001b[0;34m\u001b[0m\n\u001b[1;32m      1\u001b[0m \u001b[0;31m# we set out values here for initializing the computation\u001b[0m\u001b[0;34m\u001b[0m\u001b[0;34m\u001b[0m\u001b[0;34m\u001b[0m\u001b[0m\n\u001b[0;32m----> 2\u001b[0;31m \u001b[0msin\u001b[0m \u001b[0;34m=\u001b[0m \u001b[0mnp\u001b[0m\u001b[0;34m.\u001b[0m\u001b[0msin\u001b[0m\u001b[0;34m(\u001b[0m\u001b[0mtheta\u001b[0m\u001b[0;34m)\u001b[0m\u001b[0;34m\u001b[0m\u001b[0;34m\u001b[0m\u001b[0m\n\u001b[0m\u001b[1;32m      3\u001b[0m \u001b[0mcos\u001b[0m \u001b[0;34m=\u001b[0m \u001b[0mnp\u001b[0m\u001b[0;34m.\u001b[0m\u001b[0mcos\u001b[0m\u001b[0;34m(\u001b[0m\u001b[0mtheta\u001b[0m\u001b[0;34m)\u001b[0m\u001b[0;34m\u001b[0m\u001b[0;34m\u001b[0m\u001b[0m\n\u001b[1;32m      4\u001b[0m \u001b[0mTone\u001b[0m \u001b[0;34m=\u001b[0m \u001b[0mFullStrip\u001b[0m\u001b[0;34m(\u001b[0m\u001b[0msin\u001b[0m\u001b[0;34m,\u001b[0m\u001b[0mcos\u001b[0m\u001b[0;34m,\u001b[0m\u001b[0mstrip_width\u001b[0m\u001b[0;34m,\u001b[0m\u001b[0mprobability_cutoff\u001b[0m\u001b[0;34m)\u001b[0m\u001b[0;34m\u001b[0m\u001b[0;34m\u001b[0m\u001b[0m\n\u001b[1;32m      5\u001b[0m \u001b[0mp\u001b[0m\u001b[0;34m,\u001b[0m\u001b[0ml\u001b[0m\u001b[0;34m,\u001b[0m\u001b[0mu\u001b[0m \u001b[0;34m=\u001b[0m \u001b[0mlu\u001b[0m\u001b[0;34m(\u001b[0m\u001b[0mTone\u001b[0m\u001b[0;34m)\u001b[0m\u001b[0;34m\u001b[0m\u001b[0;34m\u001b[0m\u001b[0m\n",
      "\u001b[0;31mNameError\u001b[0m: name 'theta' is not defined"
     ]
    }
   ],
   "source": [
    "# we set out values here for initializing the computation\n",
    "theta = \n",
    "sin = np.sin(theta)\n",
    "cos = np.cos(theta)\n",
    "Tone = FullStrip(sin,cos,strip_width,probability_cutoff)\n",
    "p,l,u = lu(Tone)\n",
    "qone = np.matmul(p,l)\n",
    "rone = np.log(np.absolute(u.diagonal()))\n",
    "group_val = 8\n",
    "\n",
    "def FullTransfer(qone,rone , strip_length,strip_width,probability_cutoff, theta): \n",
    "    #Saving values of Sin and Cos\n",
    "    sin = np.sin(theta)\n",
    "    cos = np.cos(theta)\n",
    "    \n",
    "    #Group_val describes how often the LU is carried out\n",
    "    group_val = 8\n",
    "    \n",
    "    #creating matricies\n",
    "    matricies = [FullStrip(sin,cos,strip_width,probability_cutoff) for i in range(strip_length)]\n",
    "    #splitting matricies\n",
    "    \n",
    "    every_nth = [multi_dot(matricies[i:i+group_val]) for i in range(int(strip_length/group_val))]\n",
    "    \n",
    "    Tone = matricies[0]\n",
    "    pone,lone,uone = lu(Tone)\n",
    "    bigQ = np.matmul(pone,lone)\n",
    "    rlog_one = np.log(np.absolute(uone.diagonal()))\n",
    "    \n",
    "    for n,i in enumerate(every_nth):\n",
    "        matrixb = np.matmul(i,bigQ)\n",
    "        p,l,u = lu(matrixb)\n",
    "        bigQ = np.matmul(p,l)\n",
    "        rlogs = np.log(np.absolute(u.diagonal()))\n",
    "        rlog_one = np.add(rlogs,rlog_one)\n",
    "        if (n%10000):\n",
    "            np.save(LULog, (bigQ,rlog_one))\n",
    "    return (bigQ , rlog_one)"
   ]
  },
  {
   "cell_type": "code",
   "execution_count": null,
   "metadata": {},
   "outputs": [],
   "source": [
    "strip_length = int(1000)\n",
    "strip_width = int(16)\n",
    "probability_cutoff = 1.0\n",
    "theta_crit =np.pi/4\n",
    "start_time = time.time()\n",
    "theta_list = np.linspace(theta_crit,1.5,15)\n",
    "partial_func = partial(FullTransfer,strip_length,strip_width,probability_cutoff)\n",
    "p = get_context(\"fork\").Pool()\n",
    "final_array= p.map(partial_func, theta_list)\n",
    "#final_array = np.concatenate(final_array[0]).ravel().tolist()\n",
    "#joblib.dump(final_array, '113_width8_length1e6.pkl')\n",
    "np.save('length1000_width8_Jan29th_pi4_probhalf.npy',final_array)\n",
    "print(\"--- %s minutes---\" % ((time.time() - start_time)/60))"
   ]
  },
  {
   "cell_type": "code",
   "execution_count": null,
   "metadata": {},
   "outputs": [],
   "source": [
    "plt.scatter([i for i in range(strip_width * 2)],final_array[1])\n"
   ]
  },
  {
   "cell_type": "code",
   "execution_count": 5,
   "metadata": {},
   "outputs": [
    {
     "data": {
      "text/plain": [
       "1.0000000000000002"
      ]
     },
     "execution_count": 5,
     "metadata": {},
     "output_type": "execute_result"
    }
   ],
   "source": [
    "# we now want to implement an autosaving feature.\n",
    "# note that if we simply save the q and the r matrix\n",
    "# we can continute on!"
   ]
  },
  {
   "cell_type": "code",
   "execution_count": null,
   "metadata": {},
   "outputs": [],
   "source": []
  }
 ],
 "metadata": {
  "kernelspec": {
   "display_name": "Python 3",
   "language": "python",
   "name": "python3"
  },
  "language_info": {
   "codemirror_mode": {
    "name": "ipython",
    "version": 3
   },
   "file_extension": ".py",
   "mimetype": "text/x-python",
   "name": "python",
   "nbconvert_exporter": "python",
   "pygments_lexer": "ipython3",
   "version": "3.7.5"
  }
 },
 "nbformat": 4,
 "nbformat_minor": 4
}
