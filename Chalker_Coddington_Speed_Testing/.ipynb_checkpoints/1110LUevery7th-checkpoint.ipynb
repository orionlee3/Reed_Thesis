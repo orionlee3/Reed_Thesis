{
 "cells": [
  {
   "cell_type": "code",
   "execution_count": 1,
   "metadata": {},
   "outputs": [],
   "source": [
    "import numpy as np\n",
    "from numpy.linalg import multi_dot\n",
    "from numpy.linalg import qr\n",
    "import numpy.linalg as npla\n",
    "import scipy as sp\n",
    "from scipy.linalg import block_diag, logm, eigvals\n",
    "from multiprocessing import Pool\n",
    "from functools import partial\n",
    "import multiprocessing\n",
    "from multiprocessing import set_start_method\n",
    "from multiprocessing import get_context\n",
    "import joblib\n",
    "import time\n",
    "import matplotlib.pyplot as plt\n",
    "from scipy.linalg import lu\n",
    "\n",
    "theta_crit = np.pi/4"
   ]
  },
  {
   "cell_type": "code",
   "execution_count": 2,
   "metadata": {},
   "outputs": [],
   "source": [
    "def FullTransfer(strip_length,strip_width,theta): \n",
    "    sin = np.sin(theta)\n",
    "    cos = np.cos(theta)\n",
    "    \n",
    "    def FullStrip(sin,cos,strip_width):\n",
    "        \n",
    "        def TAS(sin,cos,strip_width):\n",
    "        \n",
    "            def TAMatrix(sin,cos, phi_one,phi_two,phi_three):\n",
    "                matrix_one = np.array([[1,0],[0,np.exp(-1j*phi_three)]])\n",
    "                matrix_two = np.array([[1,-sin],[-sin,1]])\n",
    "                matrix_three = np.array([[np.exp(1j*phi_two),0],[0,np.exp(-1j*phi_one)]])\n",
    "\n",
    "                return (1/cos)*multi_dot([matrix_one,matrix_two,matrix_three])\n",
    "\n",
    "            Tslist = [ \n",
    "                TAMatrix(sin,cos,*(2*np.pi)*np.random.random_sample(3)) for i in range(strip_width)\n",
    "            ]\n",
    "            return block_diag(*Tslist)\n",
    "\n",
    "        def TBS(sin,cos,strip_width):\n",
    "\n",
    "            def TBMatrix(sin,cos, phi_one,phi_two,phi_three):   \n",
    "                matrix_one = np.array([[np.exp(-1j*phi_three),0],[0,np.exp(1j*phi_one)]])\n",
    "                matrix_two = np.array([[1,cos],[cos,1]])\n",
    "                matrix_three = np.array([[-1,0],[0,np.exp(1j*phi_two)]])\n",
    "\n",
    "                return (1/sin*multi_dot([matrix_one,matrix_two,matrix_three]))\n",
    "\n",
    "            Tslist = [ \n",
    "                TBMatrix(sin,cos,*(2*np.pi)*np.random.random_sample(3)) for i in range(strip_width-1)\n",
    "            ]\n",
    "            extra = TBMatrix(sin,cos,*(2*np.pi)*np.random.random_sample(3))\n",
    "            temp_mat = block_diag(extra[1,1],*Tslist,extra[0,0])    \n",
    "            temp_mat[0,(2*strip_width)-1] = extra[1,0]\n",
    "            temp_mat[(2*strip_width)-1,0] = extra[0,1]\n",
    "            return temp_mat\n",
    "    \n",
    "        return np.matmul(TAS(sin,cos,strip_width),TBS(sin,cos,strip_width))\n",
    "\n",
    "    \n",
    "    Tone = FullStrip(sin,cos,strip_width)\n",
    "    pone,lone,uone = lu(Tone)\n",
    "    bigQ = np.matmul(pone,lone)\n",
    "    rlog_one = np.log(np.absolute(uone.diagonal()))\n",
    "    for i in range(int((strip_length-1)/10)):\n",
    "        temp = multi_dot([FullStrip(sin,cos,strip_width) for i in range(10)])\n",
    "        matrixb = np.matmul(temp,bigQ)\n",
    "        p,l,u = lu(matrixb)\n",
    "        bigQ = np.matmul(p,l)\n",
    "        rlogs = np.log(np.absolute(u.diagonal()))\n",
    "        rlog_one = np.add(rlogs,rlog_one)\n",
    "    return rlog_one"
   ]
  },
  {
   "cell_type": "code",
   "execution_count": 3,
   "metadata": {},
   "outputs": [
    {
     "name": "stdout",
     "output_type": "stream",
     "text": [
      "0.3077549934387207 seconds\n"
     ]
    }
   ],
   "source": [
    "start_time = time.time()\n",
    "test = FullTransfer(100,32,np.pi/4)\n",
    "print('%s seconds' %(time.time() - start_time))"
   ]
  },
  {
   "cell_type": "code",
   "execution_count": 4,
   "metadata": {},
   "outputs": [
    {
     "data": {
      "text/plain": [
       "'start_time = time.time()\\ntheta_list = np.linspace(theta_crit,1.5,15)\\npartial_func = partial(FullTransfer,8,int(1e6))\\nfinal_array =[]\\np = get_context(\"fork\").Pool()\\nfinal_array.append(p.map(partial_func, theta_list))\\nfinal_array = np.concatenate(final_array[0]).ravel().tolist()\\njoblib.dump(final_array, \\'115_width16_length1e6.pkl\\')\\nprint(\"--- %s minutes---\" % ((time.time() - start_time)/60))'"
      ]
     },
     "execution_count": 4,
     "metadata": {},
     "output_type": "execute_result"
    }
   ],
   "source": [
    "theta_crit = np.pi/4\n",
    "'''start_time = time.time()\n",
    "theta_list = np.linspace(theta_crit,1.5,15)\n",
    "partial_func = partial(FullTransfer,8,int(1e6))\n",
    "final_array =[]\n",
    "p = get_context(\"fork\").Pool()\n",
    "final_array.append(p.map(partial_func, theta_list))\n",
    "final_array = np.concatenate(final_array[0]).ravel().tolist()\n",
    "joblib.dump(final_array, '115_width16_length1e6.pkl')\n",
    "print(\"--- %s minutes---\" % ((time.time() - start_time)/60))'''"
   ]
  },
  {
   "cell_type": "code",
   "execution_count": 5,
   "metadata": {},
   "outputs": [
    {
     "name": "stdout",
     "output_type": "stream",
     "text": [
      "--- 9.487845182418823 seconds--- run 0 is done.\n",
      "--- 9.414159059524536 seconds--- run 1 is done.\n",
      "--- 9.300636053085327 seconds--- run 2 is done.\n",
      "--- 9.214000940322876 seconds--- run 3 is done.\n",
      "--- 9.232152700424194 seconds--- run 4 is done.\n",
      "--- 9.199826002120972 seconds--- run 5 is done.\n",
      "--- 9.230991840362549 seconds--- run 6 is done.\n",
      "--- 9.3141610622406 seconds--- run 7 is done.\n",
      "--- 9.456009864807129 seconds--- run 8 is done.\n",
      "--- 9.40378999710083 seconds--- run 9 is done.\n",
      "--- 9.408188104629517 seconds--- run 10 is done.\n",
      "--- 9.284892082214355 seconds--- run 11 is done.\n",
      "--- 9.30645203590393 seconds--- run 12 is done.\n",
      "--- 9.282631158828735 seconds--- run 13 is done.\n",
      "--- 9.33407211303711 seconds--- run 14 is done.\n"
     ]
    }
   ],
   "source": [
    "range_val = 15\n",
    "\n",
    "theta_eigs = np.array([theta_crit for i in range(range_val)])\n",
    "partial_func = partial(FullTransfer,500,32)\n",
    "for i in range(range_val):\n",
    "    start_time = time.time()\n",
    "    with Pool() as p:\n",
    "        p = get_context(\"fork\").Pool()\n",
    "        transfer_list = p.map(partial_func, theta_eigs)\n",
    "        final_array = [transfer_list[i][31] for i in range(range_val)]\n",
    "        joblib.dump(final_array, 'Gaussian_Eig_files/gaussian_eigs_len100_width32_%s.pkl'%(i))\n",
    "    print(\"--- %s seconds--- run %s is done.\" % ((time.time() - start_time), i))"
   ]
  },
  {
   "cell_type": "code",
   "execution_count": 6,
   "metadata": {},
   "outputs": [],
   "source": [
    "data_list = [joblib.load('Gaussian_Eig_files/gaussian_eigs_len100_width32_%s.pkl'%(i)) for i in range(range_val)]"
   ]
  },
  {
   "cell_type": "code",
   "execution_count": 7,
   "metadata": {},
   "outputs": [
    {
     "name": "stdout",
     "output_type": "stream",
     "text": [
      "3742\n"
     ]
    },
    {
     "data": {
      "text/plain": [
       "['Gaussian_Eig_files/final_list.pkl']"
      ]
     },
     "execution_count": 7,
     "metadata": {},
     "output_type": "execute_result"
    }
   ],
   "source": [
    "\n",
    "combined_list = joblib.load('Gaussian_Eig_files/final_list.pkl')\n",
    "for i in data_list:\n",
    "    combined_list += i\n",
    "print(len(combined_list))\n",
    "joblib.dump(combined_list,'Gaussian_Eig_files/final_list.pkl')"
   ]
  },
  {
   "cell_type": "code",
   "execution_count": 9,
   "metadata": {},
   "outputs": [
    {
     "data": {
      "image/png": "[encoded data removed]",
      "text/plain": [
       "<Figure size 1200x800 with 1 Axes>"
      ]
     },
     "metadata": {
      "needs_background": "light"
     },
     "output_type": "display_data"
    }
   ],
   "source": [
    "plt.figure(dpi = 200)\n",
    "plt.hist(combined_list, bins = 10, alpha = 0.6)\n",
    "plt.show()"
   ]
  },
  {
   "cell_type": "code",
   "execution_count": null,
   "metadata": {},
   "outputs": [],
   "source": []
  }
 ],
 "metadata": {
  "kernelspec": {
   "display_name": "Python 3",
   "language": "python",
   "name": "python3"
  },
  "language_info": {
   "codemirror_mode": {
    "name": "ipython",
    "version": 3
   },
   "file_extension": ".py",
   "mimetype": "text/x-python",
   "name": "python",
   "nbconvert_exporter": "python",
   "pygments_lexer": "ipython3",
   "version": "3.7.5"
  }
 },
 "nbformat": 4,
 "nbformat_minor": 5
}
