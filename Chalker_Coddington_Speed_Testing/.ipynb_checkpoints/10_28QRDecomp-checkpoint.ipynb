{
 "cells": [
  {
   "cell_type": "code",
   "execution_count": 18,
   "metadata": {},
   "outputs": [],
   "source": [
    "import numpy as np\n",
    "from numpy.linalg import multi_dot\n",
    "from numpy.linalg import qr\n",
    "import numpy.linalg as npla\n",
    "import scipy as sp\n",
    "from scipy.linalg import block_diag, logm, eigvals\n",
    "import pandas as pd\n",
    "from multiprocessing import Pool\n",
    "from functools import partial\n",
    "import multiprocessing\n",
    "from multiprocessing import set_start_method\n",
    "from multiprocessing import get_context\n",
    "import joblib\n",
    "import time"
   ]
  },
  {
   "cell_type": "code",
   "execution_count": 19,
   "metadata": {},
   "outputs": [],
   "source": [
    "thetacrit = np.pi/4"
   ]
  },
  {
   "cell_type": "code",
   "execution_count": 20,
   "metadata": {},
   "outputs": [],
   "source": [
    "'''\n",
    "These functions match to Holden's tlInCore and TlOutCore functions\n",
    "They construct the A and B type transfer matricies\n",
    "'''\n",
    "\n",
    "def TAMatrix(theta, phi_one,phi_two,phi_three):\n",
    "    '''mat = np.array(\n",
    "    [[np.exp(1j*phi_two)*(1/np.cos(theta)),  -np.exp(-1j *phi_one)*np.tan(theta)],\n",
    "     [np.exp(1j*(phi_two-phi_three))*(np.tan(theta)), np.exp(-1j*phi_one - 1j*phi_three)*(1/np.cos(theta))]]\n",
    "    )'''\n",
    "    matrix_one = np.array([[1,0],[0,np.exp(-1j*phi_three)]])\n",
    "    matrix_two = np.array([[1,-np.sin(theta)],[-np.sin(theta),1]])\n",
    "    matrix_three = np.array([[np.exp(1j*phi_two),0],[0,np.exp(-1j*phi_one)]])\n",
    "    \n",
    "    return (1/np.cos(theta))*multi_dot([matrix_one,matrix_two,matrix_three])\n",
    "\n",
    "\n",
    "def TBMatrix(theta, phi_one,phi_two,phi_three):   \n",
    "    matrix_one = np.array([[np.exp(-1j*phi_three),0],[0,np.exp(1j*phi_one)]])\n",
    "    matrix_two = np.array([[1,np.cos(theta)],[np.cos(theta),1]])\n",
    "    matrix_three = np.array([[-1,0],[0,np.exp(1j*phi_two)]])\n",
    "    \n",
    "    return (1/np.sin(theta)*multi_dot([matrix_one,matrix_two,matrix_three]))"
   ]
  },
  {
   "cell_type": "code",
   "execution_count": 21,
   "metadata": {},
   "outputs": [],
   "source": [
    "'''\n",
    "These functions here named TAS and TBS construct strips of TA type or TB type matrices with set strip_width\n",
    "'''\n",
    "\n",
    "#enter interger value for x that corresponds to sample width\n",
    "def TAS(theta,strip_width):\n",
    "    Tslist = [ \n",
    "        TAMatrix(theta,*(2*np.pi)*np.random.random_sample(3)) for i in range(strip_width)\n",
    "    ]\n",
    "    return block_diag(*Tslist)\n",
    "\n",
    "def TBS(theta,strip_width):\n",
    "    Tslist = [ \n",
    "        TBMatrix(theta,*(2*np.pi)*np.random.random_sample(3)) for i in range(strip_width-1)\n",
    "    ]\n",
    "    #extra = TBMatrix((2*np.pi)*np.random.random_sample(),*(2*np.pi)*np.random.random_sample(3))\n",
    "    extra = TBMatrix(theta,*(2*np.pi)*np.random.random_sample(3))\n",
    "    temp_mat = block_diag(extra[1,1],*Tslist,extra[0,0])    \n",
    "    temp_mat[0,(2*strip_width)-1] = extra[1,0]\n",
    "    temp_mat[(2*strip_width)-1,0] = extra[0,1]\n",
    "    return temp_mat\n",
    "\n",
    "'''\n",
    "Since each TA strip is followed by a TB strip, instead of alternating functions, its easier to combine them into a single strip.\n",
    "The final strip length that you run later is thus twice as long as specified. \n",
    "'''\n",
    "def FullStrip(theta,strip_width):\n",
    "    return np.matmul(TAS(theta,strip_width),TBS(theta,strip_width))"
   ]
  },
  {
   "cell_type": "code",
   "execution_count": 22,
   "metadata": {},
   "outputs": [],
   "source": [
    "#runtime can be increased by tossing the R matrix after determining sum of logs of diagonals \n",
    "'''\n",
    "Full transfer does the QR decomposition and calcuates the transfer matrix for the entire sample. \n",
    "Note that strip_length, as mentioned in the last cell, is actually the half strip length. \n",
    "The value calculated is actually double the specified length.\n",
    "'''\n",
    "\n",
    "def FullTransfer(strip_length,strip_width,theta):  \n",
    "    Tone = FullStrip(theta,strip_width)\n",
    "    qone,rone = qr(Tone)\n",
    "    bigQ = qone\n",
    "    rlog_one = np.log(np.absolute(rone.diagonal()))\n",
    "    for i in range(strip_length-1):\n",
    "        matrixb = np.matmul(FullStrip(theta,strip_width),bigQ)\n",
    "        q,r = qr(matrixb)\n",
    "        bigQ = q\n",
    "        rlogs = np.log(np.absolute(r.diagonal()))\n",
    "        rlog_one = np.add(rlogs,rlog_one)\n",
    "    return rlog_one"
   ]
  },
  {
   "cell_type": "markdown",
   "metadata": {},
   "source": [
    "We can get the eigenvalues of the final matrix because the elements (eigenvalues) of the final matrix are given by the sum of the logs of the diagonals for each rmatrix."
   ]
  },
  {
   "cell_type": "code",
   "execution_count": 25,
   "metadata": {},
   "outputs": [
    {
     "name": "stdout",
     "output_type": "stream",
     "text": [
      "40.00912284851074 seconds\n"
     ]
    }
   ],
   "source": [
    "start_time = time.time()\n",
    "vals = FullTransfer(10000,32,np.pi/4)\n",
    "print('%s seconds' %(time.time() - start_time))"
   ]
  },
  {
   "cell_type": "code",
   "execution_count": 14,
   "metadata": {},
   "outputs": [
    {
     "name": "stdout",
     "output_type": "stream",
     "text": [
      "--- 73.53510979811351 minutes---\n"
     ]
    }
   ],
   "source": [
    "start_time = time.time()\n",
    "theta_list = np.linspace(thetacrit,1.5,15)\n",
    "partial_func = partial(FullTransfer,int(1e6),4)\n",
    "final_array =[]\n",
    "p = get_context(\"fork\").Pool()\n",
    "final_array.append(p.map(partial_func, theta_list))\n",
    "final_array = np.concatenate(final_array[0]).ravel().tolist()\n",
    "joblib.dump(final_array, '113_width8_length1e6.pkl')\n",
    "print(\"--- %s minutes---\" % ((time.time() - start_time)/60))"
   ]
  },
  {
   "cell_type": "code",
   "execution_count": 49,
   "metadata": {},
   "outputs": [
    {
     "data": {
      "text/plain": [
       "104"
      ]
     },
     "execution_count": 49,
     "metadata": {},
     "output_type": "execute_result"
    }
   ],
   "source": [
    "len(final_array)"
   ]
  },
  {
   "cell_type": "code",
   "execution_count": null,
   "metadata": {},
   "outputs": [],
   "source": [
    "[thetacrit + i*np.pi/256 for i in range()]"
   ]
  },
  {
   "cell_type": "code",
   "execution_count": 46,
   "metadata": {},
   "outputs": [
    {
     "data": {
      "text/plain": [
       "array([0.78539816, 0.96994832, 1.15449847, 1.33904862, 1.52359878,\n",
       "       1.70814893, 1.89269908, 2.07724923, 2.26179939, 2.44634954,\n",
       "       2.63089969, 2.81544985, 3.        ])"
      ]
     },
     "execution_count": 46,
     "metadata": {},
     "output_type": "execute_result"
    }
   ],
   "source": [
    "np.linspace(thetacrit,3,13)"
   ]
  },
  {
   "cell_type": "code",
   "execution_count": 11,
   "metadata": {},
   "outputs": [
    {
     "data": {
      "text/plain": [
       "float"
      ]
     },
     "execution_count": 11,
     "metadata": {},
     "output_type": "execute_result"
    }
   ],
   "source": [
    "type(thetacrit)"
   ]
  },
  {
   "cell_type": "code",
   "execution_count": 9,
   "metadata": {},
   "outputs": [
    {
     "data": {
      "text/plain": [
       "-0.6931471805599453"
      ]
     },
     "execution_count": 9,
     "metadata": {},
     "output_type": "execute_result"
    }
   ],
   "source": [
    "np.log(0.5)"
   ]
  },
  {
   "cell_type": "code",
   "execution_count": null,
   "metadata": {},
   "outputs": [],
   "source": []
  }
 ],
 "metadata": {
  "kernelspec": {
   "display_name": "Python 3",
   "language": "python",
   "name": "python3"
  },
  "language_info": {
   "codemirror_mode": {
    "name": "ipython",
    "version": 3
   },
   "file_extension": ".py",
   "mimetype": "text/x-python",
   "name": "python",
   "nbconvert_exporter": "python",
   "pygments_lexer": "ipython3",
   "version": "3.7.5"
  }
 },
 "nbformat": 4,
 "nbformat_minor": 5
}
