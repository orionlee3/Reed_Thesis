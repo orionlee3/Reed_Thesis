{
 "cells": [
  {
   "cell_type": "code",
   "execution_count": 1,
   "metadata": {},
   "outputs": [],
   "source": [
    "import numpy as np\n",
    "from numpy.linalg import multi_dot\n",
    "from numpy.linalg import qr\n",
    "import numpy.linalg as npla\n",
    "import scipy as sp\n",
    "from scipy.linalg import block_diag, logm, eigvals\n",
    "from multiprocessing import Pool\n",
    "from functools import partial\n",
    "import multiprocessing as mp\n",
    "from multiprocessing import set_start_method\n",
    "from multiprocessing import get_context\n",
    "import joblib\n",
    "import time\n",
    "import matplotlib.pyplot as plt\n",
    "from scipy.linalg import lu\n",
    "\n",
    "theta_crit = np.pi/4\n",
    "phases = np.array([0.5,0.5,0.5])"
   ]
  },
  {
   "cell_type": "code",
   "execution_count": 5,
   "metadata": {},
   "outputs": [],
   "source": [
    "strip_width = 32\n",
    "strip_length = 1000\n",
    "theta = theta_crit\n",
    "LU = 'LU'\n",
    "QR = 'QR'\n",
    "\n",
    "def LU_every_nth_timing(strip_width,strip_length,theta,group_val, rand):\n",
    "    rand = rand\n",
    "    start_time = time.process_time()\n",
    "    FullTransfer(strip_length,strip_width,theta,group_val, LU)\n",
    "    end_time = time.process_time() - start_time\n",
    "    return float(end_time)\n",
    "\n",
    "def QR_every_nth_timing(strip_width,strip_length,theta,group_val, rand):\n",
    "    rand = rand\n",
    "    start_time = time.process_time()\n",
    "    FullTransfer(strip_length,strip_width,theta,group_val, QR)\n",
    "    end_time = time.process_time() - start_time\n",
    "    return float(end_time)\n",
    "\n",
    "def QR_timing(strip_width,strip_length,theta, rand):\n",
    "    rand = rand\n",
    "    start_time = time.process_time()\n",
    "    FullTransfer(strip_length,strip_width,theta,1, QR)\n",
    "    end_time = time.process_time() - start_time\n",
    "    return float(end_time)\n",
    "\n",
    "def LU_timing(strip_width,strip_length,theta, rand):\n",
    "    rand = rand\n",
    "    start_time = time.process_time()\n",
    "    FullTransfer(strip_length,strip_width,theta,1, LU)\n",
    "    end_time = time.process_time() - start_time\n",
    "    return float(end_time)\n"
   ]
  },
  {
   "cell_type": "code",
   "execution_count": 5,
   "metadata": {},
   "outputs": [],
   "source": [
    "strip_width = 32\n",
    "strip_length = 1000\n",
    "theta = theta_crit\n",
    "LU = 'LU'\n",
    "QR = 'QR'\n",
    "\n",
    "def LU_every_nth_timing(strip_width,strip_length,theta,group_val, rand):\n",
    "    rand = rand\n",
    "    start_time = time.process_time()\n",
    "    FullTransfer(strip_length,strip_width,theta,group_val, LU)\n",
    "    end_time = time.process_time() - start_time\n",
    "    return float(end_time)\n",
    "\n",
    "def QR_every_nth_timing(strip_width,strip_length,theta,group_val, rand):\n",
    "    rand = rand\n",
    "    start_time = time.process_time()\n",
    "    FullTransfer(strip_length,strip_width,theta,group_val, QR)\n",
    "    end_time = time.process_time() - start_time\n",
    "    return float(end_time)\n",
    "\n",
    "def QR_timing(strip_width,strip_length,theta, rand):\n",
    "    rand = rand\n",
    "    start_time = time.process_time()\n",
    "    FullTransfer(strip_length,strip_width,theta,1, QR)\n",
    "    end_time = time.process_time() - start_time\n",
    "    return float(end_time)\n",
    "\n",
    "def LU_timing(strip_width,strip_length,theta, rand):\n",
    "    rand = rand\n",
    "    start_time = time.process_time()\n",
    "    FullTransfer(strip_length,strip_width,theta,1, LU)\n",
    "    end_time = time.process_time() - start_time\n",
    "    return float(end_time)\n"
   ]
  },
  {
   "cell_type": "code",
   "execution_count": 2,
   "metadata": {},
   "outputs": [],
   "source": [
    "def FullStrip(sin,cos,strip_width):\n",
    "        \n",
    "        def TAS(sin,cos,strip_width):\n",
    "        \n",
    "            def TAMatrix(sin,cos, phi_one,phi_two,phi_three):\n",
    "                matrix_one = np.array([[1,0],[0,np.exp(-1j*phi_three)]])\n",
    "                matrix_two = np.array([[1,-sin],[-sin,1]])\n",
    "                matrix_three = np.array([[np.exp(1j*phi_two),0],[0,np.exp(-1j*phi_one)]])\n",
    "\n",
    "                return (1/cos)*multi_dot([matrix_one,matrix_two,matrix_three])\n",
    "\n",
    "            Tslist = [ \n",
    "                TAMatrix(sin,cos,*(2*np.pi)*phases) for i in range(strip_width)\n",
    "            ]\n",
    "            return block_diag(*Tslist)\n",
    "\n",
    "        def TBS(sin,cos,strip_width):\n",
    "\n",
    "            def TBMatrix(sin,cos, phi_one,phi_two,phi_three):   \n",
    "                matrix_one = np.array([[np.exp(-1j*phi_three),0],[0,np.exp(1j*phi_one)]])\n",
    "                matrix_two = np.array([[1,cos],[cos,1]])\n",
    "                matrix_three = np.array([[-1,0],[0,np.exp(1j*phi_two)]])\n",
    "\n",
    "                return (1/sin*multi_dot([matrix_one,matrix_two,matrix_three]))\n",
    "\n",
    "            Tslist = [ \n",
    "                TBMatrix(sin,cos,*(2*np.pi)*phases) for i in range(strip_width-1)\n",
    "            ]\n",
    "            extra = TBMatrix(sin,cos,*(2*np.pi)*phases)\n",
    "            temp_mat = block_diag(extra[1,1],*Tslist,extra[0,0])    \n",
    "            temp_mat[0,(2*strip_width)-1] = extra[1,0]\n",
    "            temp_mat[(2*strip_width)-1,0] = extra[0,1]\n",
    "            return temp_mat\n",
    "    \n",
    "        return np.matmul(TAS(sin,cos,strip_width),TBS(sin,cos,strip_width))"
   ]
  },
  {
   "cell_type": "code",
   "execution_count": 3,
   "metadata": {},
   "outputs": [],
   "source": [
    "def FullTransfer(strip_length,strip_width,theta,group_val, method): \n",
    "    sin = np.sin(theta)\n",
    "    cos = np.cos(theta)\n",
    "    \n",
    "    group_val = int(group_val)\n",
    "    \n",
    "    matricies = [FullStrip(sin,cos,strip_width) for i in range(strip_length)]\n",
    "    \n",
    "    if group_val > 1:\n",
    "        every_nth = [multi_dot(matricies[i:i+group_val]) for i in range(int(strip_length/group_val))]\n",
    "\n",
    "        if method == 'LU':\n",
    "            Tone = matricies[0]\n",
    "            pone,lone,uone = lu(Tone)\n",
    "            bigQ = np.matmul(pone,lone)\n",
    "            rlog_one = np.log(np.absolute(uone.diagonal()))\n",
    "            for i in every_nth:\n",
    "                matrixb = np.matmul(i,bigQ)\n",
    "                p,l,u = lu(matrixb)\n",
    "                bigQ = np.matmul(p,l)\n",
    "                rlogs = np.log(np.absolute(u.diagonal()))\n",
    "                rlog_one = np.add(rlogs,rlog_one)\n",
    "            return rlog_one\n",
    "\n",
    "        if method == 'QR' :\n",
    "            Tone = matricies[0]\n",
    "            qone,rone = qr(Tone)\n",
    "            bigQ = qone\n",
    "            rlog_one = np.log(np.absolute(rone.diagonal()))\n",
    "            for i in every_nth:\n",
    "                matrixb = np.matmul(i,bigQ)\n",
    "                q,r = qr(matrixb)\n",
    "                bigQ = q\n",
    "                rlogs = np.log(np.absolute(r.diagonal()))\n",
    "                rlog_one = np.add(rlogs,rlog_one)\n",
    "            return rlog_one\n",
    "    else:\n",
    "        if method == 'LU':\n",
    "            Tone = matricies[0]\n",
    "            pone,lone,uone = lu(Tone)\n",
    "            bigQ = np.matmul(pone,lone)\n",
    "            rlog_one = np.log(np.absolute(uone.diagonal()))\n",
    "            for i in matricies:\n",
    "                matrixb = np.matmul(i,bigQ)\n",
    "                p,l,u = lu(matrixb)\n",
    "                bigQ = np.matmul(p,l)\n",
    "                rlogs = np.log(np.absolute(u.diagonal()))\n",
    "                rlog_one = np.add(rlogs,rlog_one)\n",
    "            return rlog_one\n",
    "\n",
    "        if method == 'QR' :\n",
    "            Tone = matricies[0]\n",
    "            qone,rone = qr(Tone)\n",
    "            bigQ = qone\n",
    "            rlog_one = np.log(np.absolute(rone.diagonal()))\n",
    "            for i in matricies:\n",
    "                matrixb = np.matmul(i,bigQ)\n",
    "                q,r = qr(matrixb)\n",
    "                bigQ = q\n",
    "                rlogs = np.log(np.absolute(r.diagonal()))\n",
    "                rlog_one = np.add(rlogs,rlog_one)\n",
    "            return rlog_one"
   ]
  },
  {
   "cell_type": "code",
   "execution_count": 5,
   "metadata": {},
   "outputs": [],
   "source": [
    "strip_width = 32\n",
    "strip_length = 1000\n",
    "theta = theta_crit\n",
    "LU = 'LU'\n",
    "QR = 'QR'\n",
    "\n",
    "def LU_every_nth_timing(strip_width,strip_length,theta,group_val, rand):\n",
    "    rand = rand\n",
    "    start_time = time.process_time()\n",
    "    FullTransfer(strip_length,strip_width,theta,group_val, LU)\n",
    "    end_time = time.process_time() - start_time\n",
    "    return float(end_time)\n",
    "\n",
    "def QR_every_nth_timing(strip_width,strip_length,theta,group_val, rand):\n",
    "    rand = rand\n",
    "    start_time = time.process_time()\n",
    "    FullTransfer(strip_length,strip_width,theta,group_val, QR)\n",
    "    end_time = time.process_time() - start_time\n",
    "    return float(end_time)\n",
    "\n",
    "def QR_timing(strip_width,strip_length,theta, rand):\n",
    "    rand = rand\n",
    "    start_time = time.process_time()\n",
    "    FullTransfer(strip_length,strip_width,theta,1, QR)\n",
    "    end_time = time.process_time() - start_time\n",
    "    return float(end_time)\n",
    "\n",
    "def LU_timing(strip_width,strip_length,theta, rand):\n",
    "    rand = rand\n",
    "    start_time = time.process_time()\n",
    "    FullTransfer(strip_length,strip_width,theta,1, LU)\n",
    "    end_time = time.process_time() - start_time\n",
    "    return float(end_time)\n"
   ]
  },
  {
   "cell_type": "code",
   "execution_count": 13,
   "metadata": {},
   "outputs": [
    {
     "data": {
      "text/plain": [
       "4.393155097961426"
      ]
     },
     "execution_count": 13,
     "metadata": {},
     "output_type": "execute_result"
    }
   ],
   "source": [
    "#LU_every_nth_timing(strip_width,strip_length,theta,3)\n",
    "#QR_every_nth_timing(strip_width,strip_length,theta,3)\n",
    "#QR_timing(strip_width,strip_length,theta)\n",
    "#LU_timing(strip_width,strip_length,theta)"
   ]
  },
  {
   "cell_type": "code",
   "execution_count": 10,
   "metadata": {},
   "outputs": [
    {
     "name": "stdout",
     "output_type": "stream",
     "text": [
      "1047.0440919319788 minutes\n"
     ]
    }
   ],
   "source": [
    "range_val = 3500\n",
    "\n",
    "\n",
    "\n",
    "start_time = time.time()\n",
    "p = get_context(\"fork\").Pool()\n",
    "\n",
    "'''\n",
    "QR_partial_function = partial(QR_timing,strip_width,strip_length,theta)\n",
    "LU_partial_function = partial(LU_timing,strip_width,strip_length,theta)\n",
    "\n",
    "QR_time = (p.map(QR_partial_function,[i for i in range(range_val)]))\n",
    "joblib.dump(QR_time, 'Timing_Data/QR_every_1.pkl')\n",
    "LU_time = (p.map(LU_partial_function,[i for i in range(range_val)]))\n",
    "joblib.dump(LU_time, 'Timing_Data/LU_every_1.pkl')\n",
    "'''\n",
    "for i in range(5,21):\n",
    "    #LU_nth_partial_function = partial(LU_every_nth_timing,strip_width,strip_length,theta, i)\n",
    "    QR_nth_partial_function = partial(QR_every_nth_timing,strip_width,strip_length,theta, i)\n",
    "\n",
    "    #LUEverynth_time = (p.map(LU_nth_partial_function,[i for i in range(range_val)]))\n",
    "    #joblib.dump(LUEverynth_time, 'Timing_Data/LU_every_%s.pkl' %(i))\n",
    "    QREverynth_time = (p.map(QR_nth_partial_function,[i for i in range(range_val)]))\n",
    "    joblib.dump(QREverynth_time, 'Timing_Data/QR_every_%s.pkl' %(i))\n",
    "\n",
    "\n",
    "print('%s minutes'%((time.time() - start_time)/60))"
   ]
  },
  {
   "cell_type": "code",
   "execution_count": 56,
   "metadata": {},
   "outputs": [
    {
     "name": "stdout",
     "output_type": "stream",
     "text": [
      "-- Max = 2.4047645146084213 -- Mean Err = 0.32847114716250125 -- StDev = 0.3275117117253104 --\n",
      "-- Max = 1.6570744776345236e-11 -- Mean Err = 5.856717021079927e-13 -- StDev = 2.7721055539849012e-12 --\n",
      "-- Max = 2.0909094083493 -- Mean Err = 0.32843309136809506 -- StDev = 0.3255683940838234 --\n"
     ]
    }
   ],
   "source": [
    "#value validation creation\n",
    "\n",
    "validation_partial = partial(FullTransfer,strip_length,strip_width,theta)\n",
    "params = [(5,LU),(5,QR),(1,LU),(1,QR)]\n",
    "validation_data_sets=[validation_partial(i[0],i[1]) for i in params]\n",
    "\n",
    "#value testing\n",
    "correct_set = validation_data_sets[3]\n",
    "for j in range(3):\n",
    "    error = [abs(validation_data_sets[j][i] - correct_set[i]) for i in range(len(correct_set))]\n",
    "    print('-- Max = %s -- Mean Err = %s -- StDev = %s --'%(max(error),np.mean(error),np.std(error)))"
   ]
  },
  {
   "cell_type": "code",
   "execution_count": 21,
   "metadata": {},
   "outputs": [
    {
     "data": {
      "text/plain": [
       "3891.8918918918916"
      ]
     },
     "execution_count": 21,
     "metadata": {},
     "output_type": "execute_result"
    }
   ],
   "source": [
    "6*60/3.7*40"
   ]
  },
  {
   "cell_type": "code",
   "execution_count": 26,
   "metadata": {},
   "outputs": [
    {
     "data": {
      "text/plain": [
       "0.06493506493506493"
      ]
     },
     "execution_count": 26,
     "metadata": {},
     "output_type": "execute_result"
    }
   ],
   "source": [
    "0.3/4.62"
   ]
  },
  {
   "cell_type": "code",
   "execution_count": 4,
   "metadata": {},
   "outputs": [
    {
     "data": {
      "text/plain": [
       "130.0"
      ]
     },
     "execution_count": 4,
     "metadata": {},
     "output_type": "execute_result"
    }
   ],
   "source": [
    "390/3"
   ]
  },
  {
   "cell_type": "code",
   "execution_count": null,
   "metadata": {},
   "outputs": [],
   "source": []
  }
 ],
 "metadata": {
  "kernelspec": {
   "display_name": "Python 3",
   "language": "python",
   "name": "python3"
  },
  "language_info": {
   "codemirror_mode": {
    "name": "ipython",
    "version": 3
   },
   "file_extension": ".py",
   "mimetype": "text/x-python",
   "name": "python",
   "nbconvert_exporter": "python",
   "pygments_lexer": "ipython3",
   "version": "3.7.5"
  }
 },
 "nbformat": 4,
 "nbformat_minor": 4
}
