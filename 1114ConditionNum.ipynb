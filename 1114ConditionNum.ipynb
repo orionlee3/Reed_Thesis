{
 "cells": [
  {
   "cell_type": "code",
   "execution_count": 12,
   "metadata": {},
   "outputs": [],
   "source": [
    "import numpy as np\n",
    "from numpy.linalg import multi_dot\n",
    "from numpy.linalg import qr\n",
    "import numpy.linalg as npla\n",
    "import scipy as sp\n",
    "from scipy.linalg import block_diag, logm, eigvals\n",
    "import pandas as pd\n",
    "from multiprocessing import Pool\n",
    "from functools import partial\n",
    "import multiprocessing\n",
    "from multiprocessing import set_start_method\n",
    "from multiprocessing import get_context\n",
    "import joblib\n",
    "import time\n",
    "import sympy"
   ]
  },
  {
   "cell_type": "code",
   "execution_count": 2,
   "metadata": {},
   "outputs": [],
   "source": [
    "thetacrit = np.pi/4"
   ]
  },
  {
   "cell_type": "code",
   "execution_count": 3,
   "metadata": {},
   "outputs": [],
   "source": [
    "'''\n",
    "These functions match to Holden's tlInCore and TlOutCore functions\n",
    "They construct the A and B type transfer matricies\n",
    "'''\n",
    "\n",
    "def TAMatrix(theta, phi_one,phi_two,phi_three):\n",
    "    '''mat = np.array(\n",
    "    [[np.exp(1j*phi_two)*(1/np.cos(theta)),  -np.exp(-1j *phi_one)*np.tan(theta)],\n",
    "     [np.exp(1j*(phi_two-phi_three))*(np.tan(theta)), np.exp(-1j*phi_one - 1j*phi_three)*(1/np.cos(theta))]]\n",
    "    )'''\n",
    "    matrix_one = np.array([[1,0],[0,np.exp(-1j*phi_three)]])\n",
    "    matrix_two = np.array([[1,-np.sin(theta)],[-np.sin(theta),1]])\n",
    "    matrix_three = np.array([[np.exp(1j*phi_two),0],[0,np.exp(-1j*phi_one)]])\n",
    "    \n",
    "    return (1/np.cos(theta))*multi_dot([matrix_one,matrix_two,matrix_three])\n",
    "\n",
    "\n",
    "def TBMatrix(theta, phi_one,phi_two,phi_three):   \n",
    "    matrix_one = np.array([[np.exp(-1j*phi_three),0],[0,np.exp(1j*phi_one)]])\n",
    "    matrix_two = np.array([[1,np.cos(theta)],[np.cos(theta),1]])\n",
    "    matrix_three = np.array([[-1,0],[0,np.exp(1j*phi_two)]])\n",
    "    \n",
    "    return (1/np.sin(theta)*multi_dot([matrix_one,matrix_two,matrix_three]))"
   ]
  },
  {
   "cell_type": "code",
   "execution_count": 4,
   "metadata": {},
   "outputs": [],
   "source": [
    "'''\n",
    "These functions here named TAS and TBS construct strips of TA type or TB type matrices with set strip_width\n",
    "'''\n",
    "\n",
    "#enter interger value for x that corresponds to sample width\n",
    "def TAS(theta,strip_width):\n",
    "    Tslist = [ \n",
    "        TAMatrix(theta,*(2*np.pi)*np.random.random_sample(3)) for i in range(strip_width)\n",
    "    ]\n",
    "    return block_diag(*Tslist)\n",
    "\n",
    "def TBS(theta,strip_width):\n",
    "    Tslist = [ \n",
    "        TBMatrix(theta,*(2*np.pi)*np.random.random_sample(3)) for i in range(strip_width-1)\n",
    "    ]\n",
    "    #extra = TBMatrix((2*np.pi)*np.random.random_sample(),*(2*np.pi)*np.random.random_sample(3))\n",
    "    extra = TBMatrix(theta,*(2*np.pi)*np.random.random_sample(3))\n",
    "    temp_mat = block_diag(extra[1,1],*Tslist,extra[0,0])    \n",
    "    temp_mat[0,(2*strip_width)-1] = extra[1,0]\n",
    "    temp_mat[(2*strip_width)-1,0] = extra[0,1]\n",
    "    return temp_mat\n",
    "\n",
    "'''\n",
    "Since each TA strip is followed by a TB strip, instead of alternating functions, its easier to combine them into a single strip.\n",
    "The final strip length that you run later is thus twice as long as specified. \n",
    "'''\n",
    "def FullStrip(theta,strip_width):\n",
    "    return np.matmul(TAS(theta,strip_width),TBS(theta,strip_width))"
   ]
  },
  {
   "cell_type": "code",
   "execution_count": 16,
   "metadata": {},
   "outputs": [],
   "source": [
    "'''#runtime can be increased by tossing the R matrix after determining sum of logs of diagonals \n",
    "'''\n",
    "Full transfer does the QR decomposition and calcuates the transfer matrix for the entire sample. \n",
    "Note that strip_length, as mentioned in the last cell, is actually the half strip length. \n",
    "The value calculated is actually double the specified length.\n",
    "'''\n",
    "\n",
    "def FullTransfer(strip_length,strip_width,theta):  \n",
    "    Tone = FullStrip(theta,strip_width)\n",
    "    qone,rone = qr(Tone)\n",
    "    bigQ = qone\n",
    "    rlog_one = np.log(np.absolute(rone.diagonal()))\n",
    "    for i in range(strip_length-1):\n",
    "        matrixb = np.matmul(FullStrip(theta,strip_width),bigQ)\n",
    "        q,r = qr(matrixb)\n",
    "        bigQ = q\n",
    "        rlogs = np.log(np.absolute(r.diagonal()))\n",
    "        rlog_one = np.add(rlogs,rlog_one)\n",
    "    return rlog_one'''"
   ]
  },
  {
   "cell_type": "code",
   "execution_count": 53,
   "metadata": {},
   "outputs": [],
   "source": [
    "#Condition Number is |A^-1||A|\n",
    "cond_num = []\n",
    "for i in np.linspace(thetacrit,1.5,15):\n",
    "    mat = FullStrip(i,32)\n",
    "    cond_num.append(npla.norm(npla.inv(mat), ord = 'nuc')*npla.norm(mat, ord = 'nuc'))"
   ]
  },
  {
   "cell_type": "code",
   "execution_count": 54,
   "metadata": {},
   "outputs": [
    {
     "data": {
      "text/plain": [
       "[18532.38004918444,\n",
       " 18703.22812634886,\n",
       " 19230.490061936045,\n",
       " 20161.040200047843,\n",
       " 21582.972883756287,\n",
       " 23644.1812097785,\n",
       " 26587.6968140671,\n",
       " 30819.790268226694,\n",
       " 37047.88092665319,\n",
       " 46581.40149616522,\n",
       " 62057.23195661999,\n",
       " 89440.86175861907,\n",
       " 144697.1519753519,\n",
       " 283501.59690854663,\n",
       " 824752.2942322484]"
      ]
     },
     "execution_count": 54,
     "metadata": {},
     "output_type": "execute_result"
    }
   ],
   "source": [
    "cond_num"
   ]
  },
  {
   "cell_type": "code",
   "execution_count": 56,
   "metadata": {},
   "outputs": [
    {
     "ename": "NameError",
     "evalue": "name 'lu' is not defined",
     "output_type": "error",
     "traceback": [
      "\u001b[0;31m---------------------------------------------------------------------------\u001b[0m",
      "\u001b[0;31mNameError\u001b[0m                                 Traceback (most recent call last)",
      "\u001b[0;32m<ipython-input-56-8b2afb435430>\u001b[0m in \u001b[0;36m<module>\u001b[0;34m\u001b[0m\n\u001b[1;32m      1\u001b[0m \u001b[0mtest\u001b[0m\u001b[0;34m=\u001b[0m \u001b[0mFullStrip\u001b[0m\u001b[0;34m(\u001b[0m\u001b[0mthetacrit\u001b[0m\u001b[0;34m,\u001b[0m\u001b[0;36m16\u001b[0m\u001b[0;34m)\u001b[0m\u001b[0;34m\u001b[0m\u001b[0;34m\u001b[0m\u001b[0m\n\u001b[0;32m----> 2\u001b[0;31m \u001b[0mp\u001b[0m\u001b[0;34m,\u001b[0m\u001b[0mq\u001b[0m\u001b[0;34m,\u001b[0m\u001b[0mr\u001b[0m \u001b[0;34m=\u001b[0m \u001b[0mlu\u001b[0m\u001b[0;34m(\u001b[0m\u001b[0mtest\u001b[0m\u001b[0;34m)\u001b[0m\u001b[0;34m\u001b[0m\u001b[0;34m\u001b[0m\u001b[0m\n\u001b[0m\u001b[1;32m      3\u001b[0m \u001b[0mnpla\u001b[0m\u001b[0;34m.\u001b[0m\u001b[0mnorm\u001b[0m\u001b[0;34m(\u001b[0m\u001b[0mnpla\u001b[0m\u001b[0;34m.\u001b[0m\u001b[0minv\u001b[0m\u001b[0;34m(\u001b[0m\u001b[0mq\u001b[0m\u001b[0;34m)\u001b[0m\u001b[0;34m,\u001b[0m\u001b[0mord\u001b[0m \u001b[0;34m=\u001b[0m \u001b[0;34m'nuc'\u001b[0m\u001b[0;34m)\u001b[0m\u001b[0;34m*\u001b[0m\u001b[0mnpla\u001b[0m\u001b[0;34m.\u001b[0m\u001b[0mnorm\u001b[0m\u001b[0;34m(\u001b[0m\u001b[0mq\u001b[0m\u001b[0;34m,\u001b[0m \u001b[0mord\u001b[0m \u001b[0;34m=\u001b[0m \u001b[0;34m'nuc'\u001b[0m\u001b[0;34m)\u001b[0m\u001b[0;34m\u001b[0m\u001b[0;34m\u001b[0m\u001b[0m\n",
      "\u001b[0;31mNameError\u001b[0m: name 'lu' is not defined"
     ]
    }
   ],
   "source": [
    "test= FullStrip(thetacrit,16)\n",
    "p,q,r = lu(test)\n",
    "npla.norm(npla.inv(q),ord = 'nuc')*npla.norm(q, ord = 'nuc')"
   ]
  },
  {
   "cell_type": "code",
   "execution_count": null,
   "metadata": {},
   "outputs": [],
   "source": []
  }
 ],
 "metadata": {
  "kernelspec": {
   "display_name": "Python 3",
   "language": "python",
   "name": "python3"
  },
  "language_info": {
   "codemirror_mode": {
    "name": "ipython",
    "version": 3
   },
   "file_extension": ".py",
   "mimetype": "text/x-python",
   "name": "python",
   "nbconvert_exporter": "python",
   "pygments_lexer": "ipython3",
   "version": "3.7.5"
  }
 },
 "nbformat": 4,
 "nbformat_minor": 5
}
