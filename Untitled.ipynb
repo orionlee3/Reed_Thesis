{
 "cells": [
  {
   "cell_type": "code",
   "execution_count": 1,
   "metadata": {},
   "outputs": [],
   "source": [
    "import numpy as np\n",
    "from numpy.linalg import multi_dot\n",
    "from numpy.linalg import qr\n",
    "import numpy.linalg as npla\n",
    "import scipy as sp\n",
    "from scipy.linalg import block_diag, logm, eigvals\n",
    "from multiprocessing import Pool\n",
    "from functools import partial\n",
    "import multiprocessing as mp\n",
    "from multiprocessing import set_start_method\n",
    "from multiprocessing import get_context\n",
    "import matplotlib.pyplot as plt\n",
    "import time\n",
    "from scipy.linalg import lu\n",
    "\n"
   ]
  },
  {
   "cell_type": "code",
   "execution_count": null,
   "metadata": {},
   "outputs": [],
   "source": [
    "#constructs lists of probabilties in sizestrip_length x strip_width\n",
    "\n",
    "theta = np.pi/4\n",
    "sin = np.sin(theta)\n",
    "cos = np.cos(theta)\n",
    "amat = np.array([[1,-sin],[-sin,1]])\n",
    "bmat = np.array([[1,cos],[cos,1]])  \n",
    "strip_length = 4000\n",
    "strip_width = 4\n",
    "probability_cutoff = 0.5\n",
    "\n",
    "TA_prob = [np.random.random_sample(strip_width) for i in range(strip_length)]\n",
    "TB_prob = [np.random.random_sample(strip_width) for i in range(strip_length)]\n",
    "\n",
    "#first we need to know how many replaced nodes there will be\n",
    "#this says how many nodes will be replaced per strip\n",
    "num_of_replaced_A_nodes = [sum([x > probability_cutoff for x in row]) for row in TA_prob]\n",
    "num_of_replaced_B_nodes = [sum([x > probability_cutoff for x in row]) for row in TB_prob]\n",
    "\n",
    "#creates the phases necessary for the regular nodes\n",
    "TAphases = [[(2*np.pi)*np.random.random_sample(3) for i in range(strip_width - num_of_replaced_A_nodes[j])] for j in range(strip_length)]\n",
    "TBphases = [[(2*np.pi)*np.random.random_sample(3) for i in range(strip_width - num_of_replaced_B_nodes[j])] for j in range(strip_length)]\n",
    "\n",
    "#creates the phases for replacement nodes note it is range(5) because there are 5 normal nodes to construct a replacement node\n",
    "TAReplace_phases  = [[[(2*np.pi)*np.random.random_sample(3) for i in range(5)] for i in range(num_of_replaced_A_nodes[j])] for j in range(strip_length)]\n",
    "TBReplace_phases  = [[[(2*np.pi)*np.random.random_sample(3) for i in range(5)] for i in range(num_of_replaced_B_nodes[j])] for j in range(strip_length)]\n",
    "\n",
    "\n",
    "phases = [TAphases,TBphases, TAReplace_phases, TBReplace_phases]\n",
    "\n",
    "test = FullTransfer(strip_length,strip_width, probability_cutoff, phases, theta)"
   ]
  }
 ],
 "metadata": {
  "kernelspec": {
   "display_name": "Python 3",
   "language": "python",
   "name": "python3"
  },
  "language_info": {
   "codemirror_mode": {
    "name": "ipython",
    "version": 3
   },
   "file_extension": ".py",
   "mimetype": "text/x-python",
   "name": "python",
   "nbconvert_exporter": "python",
   "pygments_lexer": "ipython3",
   "version": "3.7.5"
  }
 },
 "nbformat": 4,
 "nbformat_minor": 4
}
