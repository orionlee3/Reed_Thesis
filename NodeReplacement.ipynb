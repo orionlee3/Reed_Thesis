{
 "cells": [
  {
   "cell_type": "code",
   "execution_count": 12,
   "metadata": {},
   "outputs": [],
   "source": [
    "import numpy as np\n",
    "from numpy.linalg import multi_dot\n",
    "from numpy.linalg import qr\n",
    "import numpy.linalg as npla\n",
    "import scipy as sp\n",
    "from scipy.linalg import block_diag, logm, eigvals\n",
    "from multiprocessing import Pool\n",
    "from functools import partial\n",
    "import multiprocessing as mp\n",
    "from multiprocessing import set_start_method\n",
    "from multiprocessing import get_context\n",
    "import joblib\n",
    "import time\n",
    "import matplotlib.pyplot as plt\n",
    "from scipy.linalg import lu\n",
    "\n",
    "theta_crit = np.pi/4\n",
    "phases = np.array([0.5,0.5,0.5])"
   ]
  },
  {
   "cell_type": "code",
   "execution_count": 46,
   "metadata": {},
   "outputs": [],
   "source": [
    "'''\n",
    "TAMatrix = tlIn\n",
    "TBMatrix = tlOut\n",
    "TAReplace = tlInNode\n",
    "TBreplace = tlOutNode\n",
    "\n",
    "'''\n",
    "def TAMatrix(sin,cos):\n",
    "    \n",
    "    phases = (2*np.pi)*np.random.random_sample(3)\n",
    "    \n",
    "    matrix_one = np.array([[1,0],[0,np.exp(-1j*phases[0])]])\n",
    "    matrix_two = np.array([[1,-sin],[-sin,1]])\n",
    "    matrix_three = np.array([[np.exp(1j*phases[1]),0],[0,np.exp(-1j*phases[2])]])\n",
    "\n",
    "    return (1/cos)*multi_dot([matrix_one,matrix_two,matrix_three])\n",
    "            \n",
    "def TBMatrix(sin,cos):   \n",
    "    \n",
    "    phases = (2*np.pi)*np.random.random_sample(3)\n",
    "    \n",
    "    matrix_one = np.array([[np.exp(-1j*phases[1]),0],[0,np.exp(1j*phases[0])]])\n",
    "    matrix_two = np.array([[1,cos],[cos,1]])\n",
    "    matrix_three = np.array([[-1,0],[0,np.exp(1j*phases[2])]])\n",
    "\n",
    "    return (1/sin*multi_dot([matrix_one,matrix_two,matrix_three]))\n",
    "\n",
    "def TAReplace(sin,cos):\n",
    "    TAmatricies = [TAMatrix(sin,cos) for i in range(4)]\n",
    "    TBmatricies = TBMatrix(sin,cos)\n",
    "    \n",
    "    M = multi_dot([\n",
    "            block_diag(TAmatricies[0],TAmatricies[1]),\n",
    "            block_diag(1,TBmatricies,1),\n",
    "            block_diag(TAmatricies[0],TAmatricies[1])\n",
    "    ])\n",
    "\n",
    "    new_TA = np.zeros((2,2), dtype = 'complex_')\n",
    "    denominator = (M[1,1]+M[1,2]-M[2,1]-M[2,2])\n",
    "    new_TA[0,0] = M[0,0] + ((M[0,1] + M[0,2])*(M[2,0]-M[1,0]))/denominator \n",
    "    new_TA[0,1] = M[0,3] + ((M[0,1] + M[0,2])*(M[2,3]-M[1,3]))/denominator\n",
    "    new_TA[1,0] = M[3,0] + ((M[3,1] + M[3,2])*(M[2,0]-M[3,0]))/denominator\n",
    "    new_TA[1,1] = M[3,3] + ((M[3,1] + M[3,2])*(M[2,3]-M[1,3]))/denominator\n",
    "\n",
    "    return new_TA\n",
    "\n",
    "def TBReplace(sin,cos):\n",
    "    TBmatricies = [TBMatrix(sin,cos) for i in range(4)]\n",
    "    TAmatricies = TAMatrix(sin,cos)\n",
    "    \n",
    "    M = multi_dot([\n",
    "            block_diag(TBmatricies[0],TBmatricies[1]),\n",
    "            block_diag(1,TAmatricies,1),\n",
    "            block_diag(TBmatricies[0],TBmatricies[1])\n",
    "    ])\n",
    "\n",
    "    new_TB = np.zeros((2,2), dtype = 'complex_')\n",
    "    denominator = (M[1,1]+M[1,2]-M[2,1]-M[2,2])\n",
    "    new_TB[0,0] = M[0,0] + ((M[0,1] + M[0,2])*(M[2,0]-M[1,0]))/denominator \n",
    "    new_TB[0,1] = M[0,3] + ((M[0,1] + M[0,2])*(M[2,3]-M[1,3]))/denominator\n",
    "    new_TB[1,0] = M[3,0] + ((M[3,1] + M[3,2])*(M[2,0]-M[3,0]))/denominator\n",
    "    new_TB[1,1] = M[3,3] + ((M[3,1] + M[3,2])*(M[2,3]-M[1,3]))/denominator\n",
    "\n",
    "    return new_TB\n"
   ]
  },
  {
   "cell_type": "code",
   "execution_count": null,
   "metadata": {},
   "outputs": [],
   "source": [
    "def FullStrip(sin,cos,strip_width):\n",
    "        \n",
    "        def TAS(sin,cos,strip_width):\n",
    "        \n",
    "            Tslist = [ \n",
    "                TAMatrix(sin,cos,*(2*np.pi)*phases) for i in range(strip_width)\n",
    "            ]\n",
    "            return block_diag(*Tslist)\n",
    "\n",
    "        \n",
    "        def TBS(sin,cos,strip_width):\n",
    "\n",
    "            Tslist = [ \n",
    "                TBMatrix(sin,cos,*(2*np.pi)*phases) for i in range(strip_width-1)\n",
    "            ]\n",
    "            extra = TBMatrix(sin,cos,*(2*np.pi)*phases)\n",
    "            temp_mat = block_diag(extra[1,1],*Tslist,extra[0,0])    \n",
    "            temp_mat[0,(2*strip_width)-1] = extra[1,0]\n",
    "            temp_mat[(2*strip_width)-1,0] = extra[0,1]\n",
    "            return temp_mat\n",
    "    \n",
    "        return np.matmul(TAS(sin,cos,strip_width),TBS(sin,cos,strip_width))\n",
    "\n",
    "\n",
    "    "
   ]
  },
  {
   "cell_type": "code",
   "execution_count": 24,
   "metadata": {},
   "outputs": [
    {
     "data": {
      "text/plain": [
       "array([[ 0.43216461+0.94002879j,  0.78460997+0.67439423j,\n",
       "        -0.30880886+0.55670623j, -0.35313399-0.93557276j],\n",
       "       [ 0.69469401+0.7666946j ,  1.15540931+0.48216137j,\n",
       "        -0.05937155+0.40091238j, -0.41994297-0.47846905j],\n",
       "       [ 0.29735312+0.56290839j,  0.33432311+0.22909337j,\n",
       "        -0.40421563-0.74224154j,  0.4506188 -0.1192711j ],\n",
       "       [ 0.60994018-0.79244746j,  0.10891584-0.62723367j,\n",
       "        -0.08335809+0.45862221j, -0.4652409 +0.02887575j]])"
      ]
     },
     "execution_count": 24,
     "metadata": {},
     "output_type": "execute_result"
    }
   ],
   "source": [
    "\n",
    "\n"
   ]
  },
  {
   "cell_type": "code",
   "execution_count": 17,
   "metadata": {},
   "outputs": [
    {
     "data": {
      "text/plain": [
       "array([5.45756309, 4.06522   , 2.56258443])"
      ]
     },
     "execution_count": 17,
     "metadata": {},
     "output_type": "execute_result"
    }
   ],
   "source": [
    "(2*np.pi)*np.random.random_sample(3)"
   ]
  },
  {
   "cell_type": "code",
   "execution_count": 9,
   "metadata": {},
   "outputs": [],
   "source": [
    "def FullTransfer(strip_length,strip_width,theta, method): \n",
    "    #Saving values of Sin and Cos\n",
    "    sin = np.sin(theta)\n",
    "    cos = np.cos(theta)\n",
    "    \n",
    "    #Group_val describes how often the LU is carried out\n",
    "    group_val = 9\n",
    "    \n",
    "    #creating matricies\n",
    "    matricies = [FullStrip(sin,cos,strip_width) for i in range(strip_length)]\n",
    "    #splitting matricies\n",
    "    \n",
    "    every_nth = [multi_dot(matricies[i:i+group_val]) for i in range(int(strip_length/group_val))]\n",
    "    \n",
    "    Tone = matricies[0]\n",
    "    pone,lone,uone = lu(Tone)\n",
    "    bigQ = np.matmul(pone,lone)\n",
    "    rlog_one = np.log(np.absolute(uone.diagonal()))\n",
    "    \n",
    "    for i in every_nth:\n",
    "        matrixb = np.matmul(i,bigQ)\n",
    "        p,l,u = lu(matrixb)\n",
    "        bigQ = np.matmul(p,l)\n",
    "        rlogs = np.log(np.absolute(u.diagonal()))\n",
    "        rlog_one = np.add(rlogs,rlog_one)\n",
    "    return rlog_one"
   ]
  },
  {
   "cell_type": "code",
   "execution_count": null,
   "metadata": {},
   "outputs": [],
   "source": []
  }
 ],
 "metadata": {
  "kernelspec": {
   "display_name": "Python 3",
   "language": "python",
   "name": "python3"
  },
  "language_info": {
   "codemirror_mode": {
    "name": "ipython",
    "version": 3
   },
   "file_extension": ".py",
   "mimetype": "text/x-python",
   "name": "python",
   "nbconvert_exporter": "python",
   "pygments_lexer": "ipython3",
   "version": "3.7.5"
  }
 },
 "nbformat": 4,
 "nbformat_minor": 4
}
