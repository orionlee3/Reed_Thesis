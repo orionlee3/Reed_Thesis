{
 "cells": [
  {
   "cell_type": "code",
   "execution_count": 52,
   "metadata": {},
   "outputs": [],
   "source": [
    "import numpy as np\n",
    "from numpy.linalg import multi_dot\n",
    "from numpy.linalg import qr\n",
    "import numpy.linalg as npla\n",
    "import scipy as sp\n",
    "from scipy.linalg import block_diag, logm, eigvals\n",
    "from multiprocessing import Pool\n",
    "from functools import partial\n",
    "import multiprocessing as mp\n",
    "from multiprocessing import set_start_method\n",
    "from multiprocessing import get_context\n",
    "import matplotlib.pyplot as plt\n",
    "import time\n",
    "from scipy.linalg import lu\n",
    "'''\n",
    "All the matrix construction functions are defined in this file, they include\n",
    "\n",
    "TAMatrix\n",
    "TBMatrix\n",
    "TAReplace\n",
    "TBReplace\n",
    "\n",
    "All functions take arguments (sin,cos)\n",
    "They are all 2x2 np.arrays\n",
    "'''\n",
    "from matrix_constructions import *"
   ]
  },
  {
   "cell_type": "code",
   "execution_count": 53,
   "metadata": {},
   "outputs": [],
   "source": [
    "theta = np.pi/4\n",
    "sin = np.sin(theta)\n",
    "cos = np.cos(theta)"
   ]
  },
  {
   "cell_type": "code",
   "execution_count": 5,
   "metadata": {},
   "outputs": [],
   "source": [
    "#This function constructs full strips with width = strip_width\n",
    "def FullStrip(sin,cos,strip_width,probability_cutoff): #np.array 2strip_width x 2strip_width\n",
    "    \n",
    "        #we construct TAS for TA type strips and multiply by TB type strips\n",
    "        #this means our length is really 2x our strip_length followig the convention of CC\n",
    "        #probability cutoff is first introduced here to replace specific nodes in both types of strips\n",
    "        \n",
    "        def TAS(sin,cos,strip_width,probability_cutoff):\n",
    "            \n",
    "            TAProbabilities = np.random.random_sample(strip_width)\n",
    "            \n",
    "            Tslist = [ \n",
    "                TAMatrix(sin,cos) if i < probability_cutoff \n",
    "                else TAReplace(sin,cos) for i in TAProbabilities\n",
    "            ]\n",
    "            \n",
    "            return block_diag(*Tslist)\n",
    "\n",
    "        \n",
    "        def TBS(sin,cos,strip_width,probability_cutoff): \n",
    "            \n",
    "            TBProbabilities = np.random.random_sample(strip_width-1)\n",
    "            \n",
    "            Tslist = [ \n",
    "                TBMatrix(sin,cos)if i < probability_cutoff\n",
    "                else TBReplace(sin,cos) for i in TBProbabilities\n",
    "            ]\n",
    "            \n",
    "            extra = TBMatrix(sin,cos)\n",
    "            temp_mat = block_diag(extra[1,1],*Tslist,extra[0,0])    \n",
    "            temp_mat[0,(2*strip_width)-1] = extra[1,0]\n",
    "            temp_mat[(2*strip_width)-1,0] = extra[0,1]\n",
    "            return temp_mat\n",
    "    \n",
    "        return np.matmul(TAS(sin,cos,strip_width,probability_cutoff),\n",
    "                         TBS(sin,cos,strip_width,probability_cutoff))\n",
    "\n"
   ]
  },
  {
   "cell_type": "code",
   "execution_count": 6,
   "metadata": {},
   "outputs": [
    {
     "name": "stdout",
     "output_type": "stream",
     "text": [
      "8.100000000021979e-05\n"
     ]
    }
   ],
   "source": [
    "start_time = time.process_time()\n",
    "#matricies = [FullStrip(sin,cos,32,0.5) for i in range(10000)]\n",
    "print(time.process_time() - start_time)"
   ]
  },
  {
   "cell_type": "code",
   "execution_count": 7,
   "metadata": {},
   "outputs": [],
   "source": [
    "#Full Transfer multiples a bunch of strips together\n",
    "#This is where the QR/LU is performed to actaully do the computation\n",
    "#This is the last function that is run\n",
    "\n",
    "def FullTransfer(strip_length,strip_width,probability_cutoff, theta): #Returns np.array with length 2strip_width \n",
    "    #Saving values of Sin and Cos\n",
    "    sin = np.sin(theta)\n",
    "    cos = np.cos(theta)\n",
    "    mata = np.array([[1,-sin],[-sin,1]])\n",
    "    matb = np.array([[1,cos],[cos,1]])\n",
    "    \n",
    "    #Group_val describes how often the LU is carried out\n",
    "    group_val = 8\n",
    "    \n",
    "    #creating matricies\n",
    "    matricies = [FullStrip(sin,cos,strip_width,probability_cutoff) for i in range(strip_length)]\n",
    "    #splitting matricies\n",
    "    every_nth = [multi_dot(matricies[i:i+group_val]) for i in range(int(strip_length/group_val))]\n",
    "    \n",
    "    #This step is proved by induction, find in literature\n",
    "    Tone = matricies[0]\n",
    "    pone,lone,uone = lu(Tone)\n",
    "    bigQ = np.matmul(pone,lone)\n",
    "    rlog_one = np.log(np.absolute(uone.diagonal()))\n",
    "    \n",
    "    for n,i in enumerate(every_nth):\n",
    "        matrixb = np.matmul(i,bigQ)\n",
    "        p,l,u = lu(matrixb)\n",
    "        bigQ = np.matmul(p,l)\n",
    "        rlogs = np.log(np.absolute(u.diagonal()))\n",
    "        rlog_one = np.add(rlogs,rlog_one)\n",
    "        #autosave every 50000\n",
    "        #if ( n % 50000):\n",
    "            #np.save('matrix_logs/LULogQ.npy', bigQ)\n",
    "            #np.save('matrix_logs/LULogR.npy',rlog_one)\n",
    "    return (rlog_one)"
   ]
  },
  {
   "cell_type": "code",
   "execution_count": 8,
   "metadata": {},
   "outputs": [
    {
     "name": "stdout",
     "output_type": "stream",
     "text": [
      "--- 0.15947306553522747 minutes---\n"
     ]
    }
   ],
   "source": [
    "strip_length = int(1000)\n",
    "#strip_width here is actually 2x what the \"physical\" result is but will give a matrix that is 2x the specified size\n",
    "strip_width = int(16)\n",
    "\n",
    "#probability cutoff specified here\n",
    "probability_cutoff = 1.0\n",
    "\n",
    "#energy is set here\n",
    "theta_crit =np.pi/4\n",
    "\n",
    "start_time = time.time()\n",
    "\n",
    "#theta values\n",
    "theta_list = np.linspace(np.pi/10,np.pi/2.1,15)\n",
    "\n",
    "partial_func = partial(FullTransfer,strip_length,strip_width,probability_cutoff)\n",
    "p = get_context(\"fork\").Pool()\n",
    "\n",
    "#using multiple cores here\n",
    "final_array= p.map(partial_func, theta_list)\n",
    "\n",
    "\n",
    "#np.save('results/length1000_width8_pi4_probhalf.npy',final_array)\n",
    "print(\"--- %s minutes---\" % ((time.time() - start_time)/60))"
   ]
  },
  {
   "cell_type": "code",
   "execution_count": 13,
   "metadata": {},
   "outputs": [
    {
     "data": {
      "text/plain": [
       "<matplotlib.legend.Legend at 0x7f97bfe9f710>"
      ]
     },
     "execution_count": 13,
     "metadata": {},
     "output_type": "execute_result"
    },
    {
     "data": {
      "image/png": "[encoded data removed]",
      "text/plain": [
       "<Figure size 900x600 with 1 Axes>"
      ]
     },
     "metadata": {
      "needs_background": "light"
     },
     "output_type": "display_data"
    }
   ],
   "source": [
    "plt.figure(dpi = 150)\n",
    "for n, i in enumerate(final_array):\n",
    "    plt.scatter([i for i in range(2*strip_width)], i, s = 0.5, label = '%s' %round(theta_list[n],3))\n",
    "plt.legend()"
   ]
  },
  {
   "cell_type": "code",
   "execution_count": 114,
   "metadata": {},
   "outputs": [],
   "source": [
    "test = np.array([[-2.41421356e+00-0.23914631j, -1.91421356e+00+1.10517172j],\n",
    "        [-2.22044605e-16+2.21034343j,  1.41421356e+00+1.97119712j]])\n",
    "\n",
    "\n",
    "\n",
    "theta = np.pi/4\n",
    "sin = np.sin(theta)\n",
    "cos = np.cos(theta)\n",
    "probability_cutoff = 1\n",
    "\n",
    "test2 = TAMatrix(sin,cos)\n",
    "test3 = [TAReplace(sin,cos) for i in range(6)]"
   ]
  },
  {
   "cell_type": "code",
   "execution_count": 115,
   "metadata": {},
   "outputs": [],
   "source": [
    "def TAMatrix(sin,cos):\n",
    "    phases = [np.pi/3,np.pi/3,np.pi/3]\n",
    "    \n",
    "    matrix_one = np.array([[1,0],[0,np.exp(-1j*phases[0])]])\n",
    "    matrix_two = np.array([[1,-sin],[-sin,1]])\n",
    "    matrix_three = np.array([[np.exp(1j*phases[1]),0],[0,np.exp(-1j*phases[2])]])\n",
    "\n",
    "    return (1/cos)*multi_dot([matrix_one,matrix_two,matrix_three])\n",
    "            \n",
    "def TBMatrix(sin,cos):   \n",
    "    \n",
    "    phases = [np.pi/3,np.pi/3,np.pi/3]\n",
    "    \n",
    "    matrix_one = np.array([[np.exp(-1j*phases[1]),0],[0,np.exp(1j*phases[0])]])\n",
    "    matrix_two = np.array([[1,cos],[cos,1]])\n",
    "    matrix_three = np.array([[-1,0],[0,np.exp(1j*phases[2])]])\n",
    "\n",
    "    return (1/sin*multi_dot([matrix_one,matrix_two,matrix_three]))\n",
    "\n",
    "def TAS(sin,cos,strip_width,probability_cutoff):\n",
    "            \n",
    "            TAProbabilities = np.random.random_sample(strip_width)\n",
    "            \n",
    "            Tslist = [ \n",
    "                TAMatrix(sin,cos) if i < probability_cutoff \n",
    "                else TAReplace(sin,cos) for i in TAProbabilities\n",
    "            ]\n",
    "            \n",
    "            return block_diag(*Tslist)\n",
    "def TBS(sin,cos,strip_width,probability_cutoff): \n",
    "            \n",
    "            TBProbabilities = np.random.random_sample(strip_width-1)\n",
    "            \n",
    "            Tslist = [ \n",
    "                TBMatrix(sin,cos)if i < probability_cutoff\n",
    "                else TBReplace(sin,cos) for i in TBProbabilities\n",
    "            ]\n",
    "            \n",
    "            extra = TBMatrix(sin,cos)\n",
    "            temp_mat = block_diag(extra[1,1],*Tslist,extra[0,0])    \n",
    "            temp_mat[0,(2*strip_width)-1] = extra[1,0]\n",
    "            temp_mat[(2*strip_width)-1,0] = extra[0,1]\n",
    "            return temp_mat"
   ]
  },
  {
   "cell_type": "code",
   "execution_count": 127,
   "metadata": {},
   "outputs": [
    {
     "data": {
      "text/plain": [
       "array([[-0.70710678+1.22474487e+00j,  0.        +0.00000000e+00j,\n",
       "         0.        +0.00000000e+00j,  0.        +0.00000000e+00j,\n",
       "         0.        +0.00000000e+00j, -0.5       -8.66025404e-01j],\n",
       "       [ 0.        +0.00000000e+00j, -0.70710678+1.22474487e+00j,\n",
       "         1.        +7.85046229e-17j,  0.        +0.00000000e+00j,\n",
       "         0.        +0.00000000e+00j,  0.        +0.00000000e+00j],\n",
       "       [ 0.        +0.00000000e+00j, -0.5       -8.66025404e-01j,\n",
       "        -0.70710678+1.22474487e+00j,  0.        +0.00000000e+00j,\n",
       "         0.        +0.00000000e+00j,  0.        +0.00000000e+00j],\n",
       "       [ 0.        +0.00000000e+00j,  0.        +0.00000000e+00j,\n",
       "         0.        +0.00000000e+00j, -0.70710678+1.22474487e+00j,\n",
       "         1.        +7.85046229e-17j,  0.        +0.00000000e+00j],\n",
       "       [ 0.        +0.00000000e+00j,  0.        +0.00000000e+00j,\n",
       "         0.        +0.00000000e+00j, -0.5       -8.66025404e-01j,\n",
       "        -0.70710678+1.22474487e+00j,  0.        +0.00000000e+00j],\n",
       "       [ 1.        +7.85046229e-17j,  0.        +0.00000000e+00j,\n",
       "         0.        +0.00000000e+00j,  0.        +0.00000000e+00j,\n",
       "         0.        +0.00000000e+00j, -0.70710678+1.22474487e+00j]])"
      ]
     },
     "execution_count": 127,
     "metadata": {},
     "output_type": "execute_result"
    }
   ],
   "source": [
    "TBS(sin,cos,3,1)\n",
    "#"
   ]
  },
  {
   "cell_type": "code",
   "execution_count": 135,
   "metadata": {},
   "outputs": [
    {
     "data": {
      "text/plain": [
       "array([[-2.        +6.66133815e-16j, -0.70710678-1.22474487e+00j,\n",
       "        -0.5       +8.66025404e-01j,  0.        +0.00000000e+00j,\n",
       "         0.        +0.00000000e+00j,  0.70710678-1.22474487e+00j],\n",
       "       [ 0.70710678-1.22474487e+00j,  2.        +6.66133815e-16j,\n",
       "        -0.70710678-1.22474487e+00j,  0.        +0.00000000e+00j,\n",
       "         0.        +0.00000000e+00j,  0.5       +8.66025404e-01j],\n",
       "       [ 0.        +0.00000000e+00j,  0.70710678-1.22474487e+00j,\n",
       "        -2.        +6.66133815e-16j, -0.70710678-1.22474487e+00j,\n",
       "        -0.5       +8.66025404e-01j,  0.        +0.00000000e+00j],\n",
       "       [ 0.        +0.00000000e+00j,  0.5       +8.66025404e-01j,\n",
       "         0.70710678-1.22474487e+00j,  2.        +6.66133815e-16j,\n",
       "        -0.70710678-1.22474487e+00j,  0.        +0.00000000e+00j],\n",
       "       [-0.5       +8.66025404e-01j,  0.        +0.00000000e+00j,\n",
       "         0.        +0.00000000e+00j,  0.70710678-1.22474487e+00j,\n",
       "        -2.        +6.66133815e-16j, -0.70710678-1.22474487e+00j],\n",
       "       [-0.70710678-1.22474487e+00j,  0.        +0.00000000e+00j,\n",
       "         0.        +0.00000000e+00j,  0.5       +8.66025404e-01j,\n",
       "         0.70710678-1.22474487e+00j,  2.        +6.66133815e-16j]])"
      ]
     },
     "execution_count": 135,
     "metadata": {},
     "output_type": "execute_result"
    }
   ],
   "source": [
    "matrix_check= FullStrip(sin,cos,3,1)\n",
    "other_mat = np.array([[-2.        +6.66133815e-16j, -0.70710678-1.22474487e+00j,\n",
    "        -0.5       +8.66025404e-01j,  0.        +0.00000000e+00j,\n",
    "         0.        +0.00000000e+00j,  0.70710678-1.22474487e+00j],\n",
    "       [ 0.70710678-1.22474487e+00j,  2.        +6.66133815e-16j,\n",
    "        -0.70710678-1.22474487e+00j,  0.        +0.00000000e+00j,\n",
    "         0.        +0.00000000e+00j,  0.5       +8.66025404e-01j],\n",
    "       [ 0.        +0.00000000e+00j,  0.70710678-1.22474487e+00j,\n",
    "        -2.        +6.66133815e-16j, -0.70710678-1.22474487e+00j,\n",
    "        -0.5       +8.66025404e-01j,  0.        +0.00000000e+00j],\n",
    "       [ 0.        +0.00000000e+00j,  0.5       +8.66025404e-01j,\n",
    "         0.70710678-1.22474487e+00j,  2.        +6.66133815e-16j,\n",
    "        -0.70710678-1.22474487e+00j,  0.        +0.00000000e+00j],\n",
    "       [-0.5       +8.66025404e-01j,  0.        +0.00000000e+00j,\n",
    "         0.        +0.00000000e+00j,  0.70710678-1.22474487e+00j,\n",
    "        -2.        +6.66133815e-16j, -0.70710678-1.22474487e+00j],\n",
    "       [-0.70710678-1.22474487e+00j,  0.        +0.00000000e+00j,\n",
    "         0.        +0.00000000e+00j,  0.5       +8.66025404e-01j,\n",
    "         0.70710678-1.22474487e+00j,  2.        +6.66133815e-16j]])\n",
    "\n",
    "\n",
    "matrix_check"
   ]
  },
  {
   "cell_type": "code",
   "execution_count": 136,
   "metadata": {},
   "outputs": [
    {
     "name": "stdout",
     "output_type": "stream",
     "text": [
      "-2.2490611762316037e-25j\n",
      "(-1.1865473048544573e-09-1.3915890662019592e-09j)\n",
      "(-2.220446049250313e-16-2.1556134655043024e-10j)\n",
      "0j\n",
      "0j\n",
      "(1.1865475268990622e-09-1.3915892882465641e-09j)\n",
      "(1.1865470828098523e-09-1.3915890662019592e-09j)\n",
      "-2.2490611762316037e-25j\n",
      "(-1.1865470828098523e-09-1.3915892882465641e-09j)\n",
      "0j\n",
      "0j\n",
      "-2.155614575727327e-10j\n",
      "0j\n",
      "(1.1865475268990622e-09-1.3915892882465641e-09j)\n",
      "-2.2490611762316037e-25j\n",
      "(-1.1865473048544573e-09-1.3915890662019592e-09j)\n",
      "(-2.220446049250313e-16-2.1556134655043024e-10j)\n",
      "0j\n",
      "0j\n",
      "-2.155614575727327e-10j\n",
      "(1.1865470828098523e-09-1.3915890662019592e-09j)\n",
      "-2.2490611762316037e-25j\n",
      "(-1.1865470828098523e-09-1.3915892882465641e-09j)\n",
      "0j\n",
      "(-2.220446049250313e-16-2.1556134655043024e-10j)\n",
      "0j\n",
      "0j\n",
      "(1.1865475268990622e-09-1.3915892882465641e-09j)\n",
      "-2.2490611762316037e-25j\n",
      "(-1.1865473048544573e-09-1.3915890662019592e-09j)\n",
      "(-1.1865470828098523e-09-1.3915892882465641e-09j)\n",
      "0j\n",
      "0j\n",
      "-2.155614575727327e-10j\n",
      "(1.1865470828098523e-09-1.3915890662019592e-09j)\n",
      "-2.2490611762316037e-25j\n"
     ]
    }
   ],
   "source": [
    "for i in range(6):\n",
    "    for j in range(6):\n",
    "        print(matrix_check[i][j] - other_mat[i][j])"
   ]
  },
  {
   "cell_type": "code",
   "execution_count": null,
   "metadata": {},
   "outputs": [],
   "source": []
  },
  {
   "cell_type": "code",
   "execution_count": null,
   "metadata": {},
   "outputs": [],
   "source": []
  }
 ],
 "metadata": {
  "kernelspec": {
   "display_name": "Python 3",
   "language": "python",
   "name": "python3"
  },
  "language_info": {
   "codemirror_mode": {
    "name": "ipython",
    "version": 3
   },
   "file_extension": ".py",
   "mimetype": "text/x-python",
   "name": "python",
   "nbconvert_exporter": "python",
   "pygments_lexer": "ipython3",
   "version": "3.7.5"
  }
 },
 "nbformat": 4,
 "nbformat_minor": 4
}
