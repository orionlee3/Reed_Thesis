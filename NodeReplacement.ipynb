{
 "cells": [
  {
   "cell_type": "code",
   "execution_count": 30,
   "metadata": {},
   "outputs": [],
   "source": [
    "import numpy as np\n",
    "from numpy.linalg import multi_dot\n",
    "from numpy.linalg import qr\n",
    "import numpy.linalg as npla\n",
    "import scipy as sp\n",
    "from scipy.linalg import block_diag, logm, eigvals\n",
    "from multiprocessing import Pool\n",
    "from functools import partial\n",
    "import multiprocessing as mp\n",
    "from multiprocessing import set_start_method\n",
    "from multiprocessing import get_context\n",
    "import matplotlib.pyplot as plt\n",
    "import time\n",
    "from scipy.linalg import lu\n",
    "'''\n",
    "All the matrix construction functions are defined in this file, they include\n",
    "\n",
    "TAMatrix\n",
    "TBMatrix\n",
    "TAReplace\n",
    "TBReplace\n",
    "\n",
    "All functions take arguments (sin,cos)\n",
    "They are all 2x2 np.arrays\n",
    "'''\n",
    "from matrix_constructions import *"
   ]
  },
  {
   "cell_type": "code",
   "execution_count": null,
   "metadata": {},
   "outputs": [],
   "source": []
  },
  {
   "cell_type": "code",
   "execution_count": 31,
   "metadata": {},
   "outputs": [],
   "source": [
    "#This function constructs full strips with width = strip_width\n",
    "def FullStrip(sin,cos,strip_width,probability_cutoff): #np.array 2strip_width x 2strip_width\n",
    "    \n",
    "        #we construct TAS for TA type strips and multiply by TB type strips\n",
    "        #this means our length is really 2x our strip_length followig the convention of CC\n",
    "        #probability cutoff is first introduced here to replace specific nodes in both types of strips\n",
    "        \n",
    "        def TAS(sin,cos,strip_width,probability_cutoff):\n",
    "            \n",
    "            TAProbabilities = np.random.random_sample(strip_width)\n",
    "            \n",
    "            Tslist = [ \n",
    "                TAMatrix(sin,cos) if i < probability_cutoff \n",
    "                else TAReplace(sin,cos) for i in TAProbabilities\n",
    "            ]\n",
    "            \n",
    "            return block_diag(*Tslist)\n",
    "\n",
    "        \n",
    "        def TBS(sin,cos,strip_width,probability_cutoff): \n",
    "            \n",
    "            TBProbabilities = np.random.random_sample(strip_width-1)\n",
    "            \n",
    "            Tslist = [ \n",
    "                TBMatrix(sin,cos)if i < probability_cutoff\n",
    "                else TBReplace(sin,cos) for i in TBProbabilities\n",
    "            ]\n",
    "            \n",
    "            extra = TBMatrix(sin,cos)\n",
    "            temp_mat = block_diag(extra[1,1],*Tslist,extra[0,0])    \n",
    "            temp_mat[0,(2*strip_width)-1] = extra[1,0]\n",
    "            temp_mat[(2*strip_width)-1,0] = extra[0,1]\n",
    "            return temp_mat\n",
    "    \n",
    "        return np.matmul(TAS(sin,cos,strip_width,probability_cutoff),\n",
    "                         TBS(sin,cos,strip_width,probability_cutoff))\n",
    "\n"
   ]
  },
  {
   "cell_type": "code",
   "execution_count": 3,
   "metadata": {},
   "outputs": [],
   "source": [
    "#Full Transfer multiples a bunch of strips together\n",
    "#This is where the QR/LU is performed to actaully do the computation\n",
    "#This is the last function that is run\n",
    "\n",
    "def FullTransfer(strip_length,strip_width,probability_cutoff, theta): #Returns np.array with length 2strip_width \n",
    "    #Saving values of Sin and Cos\n",
    "    sin = np.sin(theta)\n",
    "    cos = np.cos(theta)\n",
    "    mata = np.array([[1,-sin],[-sin,1]])\n",
    "    matb = np.array([[1,cos],[cos,1]])\n",
    "    \n",
    "    #Group_val describes how often the LU is carried out\n",
    "    group_val = 8\n",
    "    \n",
    "    #creating matricies\n",
    "    matricies = [FullStrip(sin,cos,strip_width,probability_cutoff) for i in range(strip_length)]\n",
    "    #splitting matricies\n",
    "    every_nth = [multi_dot(matricies[i:i+group_val]) for i in range(int(strip_length/group_val))]\n",
    "    \n",
    "    #This step is proved by induction, find in literature\n",
    "    Tone = matricies[0]\n",
    "    pone,lone,uone = lu(Tone)\n",
    "    bigQ = np.matmul(pone,lone)\n",
    "    rlog_one = np.log(np.absolute(uone.diagonal()))\n",
    "    \n",
    "    for n,i in enumerate(every_nth):\n",
    "        matrixb = np.matmul(i,bigQ)\n",
    "        p,l,u = lu(matrixb)\n",
    "        bigQ = np.matmul(p,l)\n",
    "        rlogs = np.log(np.absolute(u.diagonal()))\n",
    "        rlog_one = np.add(rlogs,rlog_one)\n",
    "        #autosave every 50000\n",
    "        if ( n % 50000):\n",
    "            np.save('matrix_logs/LULogQ.npy', bigQ)\n",
    "            np.save('matrix_logs/LULogR.npy',rlog_one)\n",
    "    return (rlog_one)"
   ]
  },
  {
   "cell_type": "code",
   "execution_count": 6,
   "metadata": {},
   "outputs": [
    {
     "name": "stdout",
     "output_type": "stream",
     "text": [
      "--- 0.1805516203244527 minutes---\n"
     ]
    }
   ],
   "source": [
    "strip_length = int(1000)\n",
    "#strip_width here is actually 2x what the \"physical\" result is but will give a matrix that is 2x the specified size\n",
    "strip_width = int(16)\n",
    "\n",
    "#probability cutoff specified here\n",
    "probability_cutoff = 1.0\n",
    "\n",
    "#energy is set here\n",
    "theta_crit =np.pi/4\n",
    "\n",
    "start_time = time.time()\n",
    "\n",
    "#theta values\n",
    "theta_list = np.linspace(theta_crit,1.5,4)\n",
    "\n",
    "partial_func = partial(FullTransfer,strip_length,strip_width,probability_cutoff)\n",
    "p = get_context(\"fork\").Pool()\n",
    "\n",
    "#using multiple cores here\n",
    "final_array= p.map(partial_func, theta_list)\n",
    "\n",
    "\n",
    "np.save('results/length1000_width8_pi4_probhalf.npy',final_array)\n",
    "print(\"--- %s minutes---\" % ((time.time() - start_time)/60))"
   ]
  },
  {
   "cell_type": "code",
   "execution_count": null,
   "metadata": {},
   "outputs": [],
   "source": [
    "plt.scatter([i for i in range(strip_width * 2)],final_array[1])\n"
   ]
  },
  {
   "cell_type": "code",
   "execution_count": 13,
   "metadata": {},
   "outputs": [
    {
     "data": {
      "text/plain": [
       "32"
      ]
     },
     "execution_count": 13,
     "metadata": {},
     "output_type": "execute_result"
    }
   ],
   "source": [
    "len(final_array[0])"
   ]
  },
  {
   "cell_type": "code",
   "execution_count": 5,
   "metadata": {},
   "outputs": [
    {
     "data": {
      "text/plain": [
       "array([ 1631.78733369,  1485.14372625,  1369.45030778,  1280.622998  ,\n",
       "        1193.70510949,  1100.78691593,  1031.37757556,   948.65528581,\n",
       "         857.51263792,   770.61767238,   660.79231429,   556.82496295,\n",
       "         437.19367789,   313.81638321,   175.97590982,    61.7016743 ,\n",
       "         -58.61522984,  -177.83072185,  -311.20313903,  -439.10072371,\n",
       "        -550.81356006,  -661.51139013,  -770.9515228 ,  -857.18009073,\n",
       "        -952.27436069, -1029.25921717, -1104.7010896 , -1190.90338599,\n",
       "       -1282.86733702, -1372.27558401, -1484.170254  , -1633.13946914])"
      ]
     },
     "execution_count": 5,
     "metadata": {},
     "output_type": "execute_result"
    }
   ],
   "source": [
    "FullTransfer(1000,16,0.5, np.pi/4)"
   ]
  },
  {
   "cell_type": "code",
   "execution_count": 3,
   "metadata": {},
   "outputs": [
    {
     "data": {
      "text/plain": [
       "[(1, 0), (3, 2), (5, 4), (7, 6), (9, 8)]"
      ]
     },
     "execution_count": 3,
     "metadata": {},
     "output_type": "execute_result"
    }
   ],
   "source": [
    "[(2*i+1,2*i)for i in range(5)]"
   ]
  },
  {
   "cell_type": "code",
   "execution_count": 55,
   "metadata": {},
   "outputs": [],
   "source": [
    "x = 6\n",
    "theta = np.pi/4\n",
    "Bmat = np.zeros((x,x))\n",
    "Dmat = np.zeros((x,x))\n",
    "for i in range(int(x/2 - 1)):\n",
    "    Dmat[2*i+1, 2*i] = np.sinh(theta) #np.cos(theta)/np.sin(theta)\n",
    "    Dmat[2*i,2*i+1] =  np.sinh(theta) #np.cos(theta)/np.sin(theta)\n",
    "for i in range(int(x/2)):\n",
    "    Bmat[2*i, 2*i-1] = np.cosh(theta)\n",
    "    Bmat[2*i-1, 2*i] = np.cosh(theta)\n",
    "for i in range(int(x)):\n",
    "    Dmat[i,i] = np.cosh(theta)\n",
    "    Bmat[i,i] = np.sinh(theta)\n"
   ]
  },
  {
   "cell_type": "code",
   "execution_count": 56,
   "metadata": {},
   "outputs": [
    {
     "name": "stderr",
     "output_type": "stream",
     "text": [
      "/Library/Frameworks/Python.framework/Versions/3.7/lib/python3.7/site-packages/ipykernel_launcher.py:5: ComplexWarning: Casting complex values to real discards the imaginary part\n",
      "  \"\"\"\n"
     ]
    }
   ],
   "source": [
    "\n",
    "Amat = np.zeros((x,x))\n",
    "for i in range(x):\n",
    "    for j in range(x):\n",
    "        if i ==j:\n",
    "            Amat[i,j] = np.exp(-1j*2*np.pi*np.random.random_sample(1)[0])"
   ]
  },
  {
   "cell_type": "code",
   "execution_count": 57,
   "metadata": {},
   "outputs": [],
   "source": [
    "theta = np.pi/4\n",
    "sin = np.sin(theta)\n",
    "cos = np.cos(theta)\n",
    "testmat = FullStrip(sin,cos,4,1)"
   ]
  },
  {
   "cell_type": "code",
   "execution_count": 58,
   "metadata": {},
   "outputs": [
    {
     "data": {
      "text/plain": [
       "0.9999999999999999"
      ]
     },
     "execution_count": 58,
     "metadata": {},
     "output_type": "execute_result"
    }
   ],
   "source": [
    "np.abs(npla.det(testmat))"
   ]
  },
  {
   "cell_type": "code",
   "execution_count": 59,
   "metadata": {},
   "outputs": [
    {
     "data": {
      "text/plain": [
       "9.691094159857676e-05"
      ]
     },
     "execution_count": 59,
     "metadata": {},
     "output_type": "execute_result"
    }
   ],
   "source": [
    "np.abs(npla.det(npla.multi_dot([Amat, Bmat,Amat,Dmat])))"
   ]
  },
  {
   "cell_type": "code",
   "execution_count": null,
   "metadata": {},
   "outputs": [],
   "source": []
  },
  {
   "cell_type": "code",
   "execution_count": null,
   "metadata": {},
   "outputs": [],
   "source": []
  }
 ],
 "metadata": {
  "kernelspec": {
   "display_name": "Python 3",
   "language": "python",
   "name": "python3"
  },
  "language_info": {
   "codemirror_mode": {
    "name": "ipython",
    "version": 3
   },
   "file_extension": ".py",
   "mimetype": "text/x-python",
   "name": "python",
   "nbconvert_exporter": "python",
   "pygments_lexer": "ipython3",
   "version": "3.7.5"
  }
 },
 "nbformat": 4,
 "nbformat_minor": 4
}
