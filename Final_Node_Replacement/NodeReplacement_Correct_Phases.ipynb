{
 "cells": [
  {
   "cell_type": "code",
   "execution_count": 1,
   "metadata": {},
   "outputs": [],
   "source": [
    "import numpy as np\n",
    "from numpy.linalg import multi_dot\n",
    "from numpy.linalg import qr\n",
    "import numpy.linalg as npla\n",
    "import scipy as sp\n",
    "from scipy.linalg import block_diag, logm, eigvals\n",
    "from multiprocessing import Pool\n",
    "from functools import partial\n",
    "import multiprocessing as mp\n",
    "from multiprocessing import set_start_method\n",
    "from multiprocessing import get_context\n",
    "import matplotlib.pyplot as plt\n",
    "import time\n",
    "from scipy.linalg import lu\n",
    "\n"
   ]
  },
  {
   "cell_type": "code",
   "execution_count": 2,
   "metadata": {},
   "outputs": [],
   "source": [
    "def TAMatrix(amat, sin,cos, phases):\n",
    "        #phases should be a list with length 0,1,2\n",
    "        #amat should be a 2x2 array\n",
    "        matrix_one = np.array([[1,0],[0,np.exp(-1j*phases[0])]])\n",
    "        matrix_three = np.array([[np.exp(1j*phases[1]),0],[0,np.exp(-1j*phases[2])]])\n",
    "        return (1/cos)*multi_dot([matrix_one,amat,matrix_three])\n",
    "            \n",
    "def TBMatrix(bmat, sin,cos,phases):   \n",
    "\n",
    "    matrix_one = np.array([[np.exp(-1j*phases[1]),0],[0,np.exp(1j*phases[0])]])\n",
    "    matrix_three = np.array([[-1,0],[0,np.exp(1j*phases[2])]])\n",
    "    return (1/sin*multi_dot([matrix_one,bmat,matrix_three]))\n",
    "\n",
    "def TAReplace(ATAMatricies, ATBMatricies):\n",
    "    TAmatricies = ATAMatricies\n",
    "    TBmatricies = ATBMatricies\n",
    "\n",
    "    M = multi_dot([\n",
    "            block_diag(TAmatricies[0],TAmatricies[1]),\n",
    "            block_diag(1,TBmatricies,1),\n",
    "            block_diag(TAmatricies[2],TAmatricies[3])\n",
    "    ])\n",
    "\n",
    "    new_TA = np.zeros((2,2), dtype = 'complex_')\n",
    "    denominator = (M[2,1]+M[2,2]-M[1,1]-M[1,2])\n",
    "    new_TA[0,0] = M[0,0] + (((M[0,1] + M[0,2])*(M[1,0]-M[2,0]))/denominator)\n",
    "    new_TA[0,1] = M[0,3] + (((M[0,1] + M[0,2])*(M[1,3]-M[2,3]))/denominator)\n",
    "    new_TA[1,0] = M[3,0] + (((M[3,1] + M[3,2])*(M[1,0]-M[2,0]))/denominator)\n",
    "    new_TA[1,1] = M[3,3] + (((M[3,1] + M[3,2])*(M[1,3]-M[2,3]))/denominator)\n",
    "\n",
    "    return new_TA\n",
    "\n",
    "def TBReplace(BTAMatricies, BTBMatricies):\n",
    "\n",
    "    TAmatricies = BTAMatricies\n",
    "    TBmatricies = BTBMatricies\n",
    "\n",
    "    M = multi_dot([\n",
    "            block_diag(TBmatricies[0],TBmatricies[1]),\n",
    "            block_diag(1,TAmatricies,1),\n",
    "            block_diag(TBmatricies[2],TBmatricies[3])\n",
    "    ])\n",
    "\n",
    "    new_TB = np.zeros((2,2), dtype = 'complex_')\n",
    "    denominator = (M[2,1]+M[2,2]-M[1,1]-M[1,2])\n",
    "    new_TB[0,0] = M[0,0] + (((M[0,1] + M[0,2])*(M[1,0]-M[2,0]))/denominator)\n",
    "    new_TB[0,1] = M[0,3] + (((M[0,1] + M[0,2])*(M[1,3]-M[2,3]))/denominator)\n",
    "    new_TB[1,0] = M[3,0] + (((M[3,1] + M[3,2])*(M[1,0]-M[2,0]))/denominator)\n",
    "    new_TB[1,1] = M[3,3] + (((M[3,1] + M[3,2])*(M[1,3]-M[2,3]))/denominator)\n",
    "\n",
    "    return new_TB"
   ]
  },
  {
   "cell_type": "code",
   "execution_count": 3,
   "metadata": {},
   "outputs": [],
   "source": [
    "def TAS(probability_cutoff, TA_prob, TA_nodes, TAR_nodes):\n",
    "            \n",
    "            TA_counter = 0\n",
    "            TAR_counter = 0\n",
    "            Tslist = [0 for i in range(len(TA_nodes) + len(TAR_nodes))]\n",
    "        #TA_prob will be a list the same length as strip_width\n",
    "            for n, i in enumerate(TA_prob):\n",
    "                if i < probability_cutoff:\n",
    "                    Tslist[n] = TA_nodes[TA_counter]\n",
    "                    TA_counter += 1\n",
    "                else:\n",
    "                    Tslist[n] = TAR_nodes[TAR_counter]\n",
    "                    TAR_counter += 1\n",
    "                \n",
    "            return block_diag(*Tslist)\n",
    "        \n",
    "def TBS(probability_cutoff, TB_prob, TB_nodes, TBR_nodes): \n",
    "            strip_width = len(TB_nodes) + len(TBR_nodes)\n",
    "            TB_counter = 0\n",
    "            TBR_counter = 0 \n",
    "            Tslist = [0 for i in range(strip_width-1)]\n",
    "            \n",
    "            for i in range(strip_width - 1):\n",
    "                if TB_prob[i] < probability_cutoff:\n",
    "                    Tslist[i] = TB_nodes[TB_counter]\n",
    "                    TB_counter += 1\n",
    "                else:\n",
    "                    Tslist[i] = TBR_nodes[TBR_counter]\n",
    "                    TBR_counter += 1\n",
    "            \n",
    "            if TB_counter < len(TB_nodes):\n",
    "                extra = TB_nodes[TB_counter]\n",
    "            else: \n",
    "                extra = TBR_nodes[TBR_counter]\n",
    "            temp_mat = block_diag(extra[1,1],*Tslist,extra[0,0])    \n",
    "            temp_mat[0,(2*strip_width)-1] = extra[1,0]\n",
    "            temp_mat[(2*strip_width)-1,0] = extra[0,1]\n",
    "            return temp_mat\n",
    "\n",
    "def FullStrip(probability_cutoff,TA_prob,TB_prob, TA_nodes, TAR_nodes, TB_nodes, TBR_nodes): #np.array 2strip_width x 2strip_width\n",
    "    \n",
    "        #we construct TAS for TA type strips and multiply by TB type strips\n",
    "        #this means our length is really 2x our strip_length followig the convention of CC\n",
    "        #probability cutoff is first introduced here to replace specific nodes in both types of strips\n",
    "        \n",
    "        return np.matmul(TAS(probability_cutoff, TA_prob, TA_nodes, TAR_nodes),\n",
    "                         TBS(probability_cutoff, TB_prob, TB_nodes, TBR_nodes))"
   ]
  },
  {
   "cell_type": "code",
   "execution_count": 4,
   "metadata": {},
   "outputs": [],
   "source": [
    "def FullTransfer(strip_length,strip_width, probability_cutoff, phases, theta):\n",
    "    \n",
    "    sin = np.sin(theta)\n",
    "    cos = np.cos(theta)\n",
    "    \n",
    "    phases[0] = TAphases\n",
    "    phases[1] = TBphases\n",
    "    phases[2] = TAReplace_phases\n",
    "    phases[3] = TBReplace_phases\n",
    "    \n",
    "    #creates the list of regular nodes\n",
    "    TA_nodes = [[TAMatrix(amat,sin,cos,TAphases[j][i]) for i in range((strip_width) - num_of_replaced_A_nodes[j])] for j in range(strip_length)]\n",
    "    TB_nodes = [[TBMatrix(bmat,sin,cos,TBphases[j][i]) for i in range((strip_width) - num_of_replaced_B_nodes[j])] for j in range(strip_length)]\n",
    "    \n",
    "    #creates the nodes needed to construct the replacement node\n",
    "    TAReplaceA_nodes = [[[TAMatrix(amat,sin,cos,TAReplace_phases[i][j][k]) for k in range(4)]for j in range(num_of_replaced_A_nodes[i])] for i in range(strip_length)]\n",
    "    TAReplaceB_nodes = [[TBMatrix(bmat,sin,cos,TAReplace_phases[i][j][4])for j in range(num_of_replaced_A_nodes[i])] for i in range(strip_length)]\n",
    "\n",
    "    TBReplaceB_nodes = [[[TBMatrix(bmat,sin,cos,TBReplace_phases[i][j][k]) for k in range(4)]for j in range(num_of_replaced_B_nodes[i])] for i in range(strip_length)]\n",
    "    TBReplaceA_nodes = [[TAMatrix(amat,sin,cos,TBReplace_phases[i][j][4])for j in range(num_of_replaced_B_nodes[i])] for i in range(strip_length)]\n",
    "\n",
    "\n",
    "    #constructs the actual replacement nodes\n",
    "    TAR_nodes = [[TAReplace(TAReplaceA_nodes[i][j], TAReplaceB_nodes[i][j]) for j in range(num_of_replaced_A_nodes[i])] for i in range(strip_length)]\n",
    "    TBR_nodes = [[TBReplace(TBReplaceA_nodes[i][j], TBReplaceB_nodes[i][j]) for j in range(num_of_replaced_B_nodes[i])] for i in range(strip_length)]\n",
    "\n",
    "    #group_val determines how many matricies are multipled before \n",
    "    group_val = 8\n",
    "    \n",
    "\n",
    "\n",
    "    #creating matricies\n",
    "    matrix_strips = [FullStrip(probability_cutoff,TA_prob[i],TB_prob[i], TA_nodes[i], TAR_nodes[i], TB_nodes[i], TBR_nodes[i]) for i in range(strip_length)]\n",
    "    #splitting matricies\n",
    "    every_nth = [multi_dot(matrix_strips[i:i+group_val]) for i in range(int(strip_length/group_val))]\n",
    "\n",
    "    #This step is proved by induction, find in literature\n",
    "    Tone = matrix_strips[0]\n",
    "    pone,lone,uone = lu(Tone)\n",
    "    bigQ = np.matmul(pone,lone)\n",
    "    rlog_one = np.log(np.absolute(uone.diagonal()))\n",
    "\n",
    "    for n,i in enumerate(every_nth):\n",
    "        matrixb = np.matmul(i,bigQ)\n",
    "        p,l,u = lu(matrixb)\n",
    "        bigQ = np.matmul(p,l)\n",
    "        rlogs = np.log(np.absolute(u.diagonal()))\n",
    "        rlog_one = np.add(rlogs,rlog_one)\n",
    "        #autosave every 50000\n",
    "        #if ( n % 50000):\n",
    "            #np.save('Results/test1/matrix_logs/LULogQ.npy', bigQ)\n",
    "            #np.save('Results/test1/matrix_logs/LULogR.npy',rlog_one)\n",
    "    return (rlog_one)"
   ]
  },
  {
   "cell_type": "code",
   "execution_count": 13,
   "metadata": {},
   "outputs": [],
   "source": [
    "#constructs lists of probabilties in sizestrip_length x strip_width\n",
    "\n",
    "theta = np.pi/4\n",
    "sin = np.sin(theta)\n",
    "cos = np.cos(theta)\n",
    "amat = np.array([[1,-sin],[-sin,1]])\n",
    "bmat = np.array([[1,cos],[cos,1]])  \n",
    "strip_length = 1000\n",
    "strip_width = 16\n",
    "probability_cutoff = 1\n",
    "\n",
    "TA_prob = [np.random.random_sample(strip_width) for i in range(strip_length)]\n",
    "TB_prob = [np.random.random_sample(strip_width) for i in range(strip_length)]\n",
    "\n",
    "#first we need to know how many replaced nodes there will be\n",
    "#this says how many nodes will be replaced per strip\n",
    "num_of_replaced_A_nodes = [sum([x > probability_cutoff for x in row]) for row in TA_prob]\n",
    "num_of_replaced_B_nodes = [sum([x > probability_cutoff for x in row]) for row in TB_prob]\n",
    "\n",
    "#creates the phases necessary for the regular nodes\n",
    "TAphases = [[[np.pi/3,np.pi/3,np.pi/3] for i in range(strip_width - num_of_replaced_A_nodes[j])] for j in range(strip_length)]\n",
    "TBphases = [[[np.pi/3,np.pi/3,np.pi/3] for i in range(strip_width - num_of_replaced_B_nodes[j])] for j in range(strip_length)]\n",
    "\n",
    "#creates the phases for replacement nodes note it is range(5) because there are 5 normal nodes to construct a replacement node\n",
    "TAReplace_phases  = [[[[np.pi/3,np.pi/3,np.pi/3] for i in range(5)] for i in range(num_of_replaced_A_nodes[j])] for j in range(strip_length)]\n",
    "TBReplace_phases  = [[[ [np.pi/3,np.pi/3,np.pi/3] for i in range(5)] for i in range(num_of_replaced_B_nodes[j])] for j in range(strip_length)]\n",
    "\n",
    "\n",
    "phases = [TAphases,TBphases, TAReplace_phases, TBReplace_phases]\n",
    "\n",
    "#test = FullTransfer(strip_length,strip_width, probability_cutoff, phases, theta)"
   ]
  },
  {
   "cell_type": "code",
   "execution_count": 14,
   "metadata": {},
   "outputs": [],
   "source": [
    "#creates the list of regular nodes\n",
    "TA_nodes = [[TAMatrix(amat,sin,cos,TAphases[j][i]) for i in range((strip_width) - num_of_replaced_A_nodes[j])] for j in range(strip_length)]\n",
    "TB_nodes = [[TBMatrix(bmat,sin,cos,TBphases[j][i]) for i in range((strip_width) - num_of_replaced_B_nodes[j])] for j in range(strip_length)]\n",
    "\n",
    "#creates the nodes needed to construct the replacement node\n",
    "TAReplaceA_nodes = [[[TAMatrix(amat,sin,cos,TAReplace_phases[i][j][k]) for k in range(4)]for j in range(num_of_replaced_A_nodes[i])] for i in range(strip_length)]\n",
    "TAReplaceB_nodes = [[TBMatrix(bmat,sin,cos,TAReplace_phases[i][j][4])for j in range(num_of_replaced_A_nodes[i])] for i in range(strip_length)]\n",
    "\n",
    "TBReplaceB_nodes = [[[TBMatrix(bmat,sin,cos,TBReplace_phases[i][j][k]) for k in range(4)]for j in range(num_of_replaced_B_nodes[i])] for i in range(strip_length)]\n",
    "TBReplaceA_nodes = [[TAMatrix(amat,sin,cos,TBReplace_phases[i][j][4])for j in range(num_of_replaced_B_nodes[i])] for i in range(strip_length)]\n",
    "\n",
    "\n",
    "#constructs the actual replacement nodes\n",
    "TAR_nodes = [[TAReplace(TAReplaceA_nodes[i][j], TAReplaceB_nodes[i][j]) for j in range(num_of_replaced_A_nodes[i])] for i in range(strip_length)]\n",
    "TBR_nodes = [[TBReplace(TBReplaceA_nodes[i][j], TBReplaceB_nodes[i][j]) for j in range(num_of_replaced_B_nodes[i])] for i in range(strip_length)]\n"
   ]
  },
  {
   "cell_type": "code",
   "execution_count": 7,
   "metadata": {},
   "outputs": [],
   "source": [
    "check = [\n",
    "        abs(\n",
    "            npla.det(\n",
    "                FullStrip(\n",
    "                    probability_cutoff,\n",
    "                    TA_prob[i],\n",
    "                    TB_prob[i], \n",
    "                    TA_nodes[i], \n",
    "                    TAR_nodes[i], \n",
    "                    TB_nodes[i], \n",
    "                    TBR_nodes[i]))) for i in range(strip_length)\n",
    "]"
   ]
  },
  {
   "cell_type": "code",
   "execution_count": 273,
   "metadata": {},
   "outputs": [
    {
     "data": {
      "text/plain": [
       "array([[ 0.70710678+1.22474487j, -0.5       +0.8660254j ,\n",
       "         0.        +0.j        ,  0.        +0.j        ,\n",
       "         0.        +0.j        ,  0.        +0.j        ],\n",
       "       [-1.        +0.j        , -0.70710678-1.22474487j,\n",
       "         0.        +0.j        ,  0.        +0.j        ,\n",
       "         0.        +0.j        ,  0.        +0.j        ],\n",
       "       [ 0.        +0.j        ,  0.        +0.j        ,\n",
       "         0.70710678+1.22474487j, -0.5       +0.8660254j ,\n",
       "         0.        +0.j        ,  0.        +0.j        ],\n",
       "       [ 0.        +0.j        ,  0.        +0.j        ,\n",
       "        -1.        +0.j        , -0.70710678-1.22474487j,\n",
       "         0.        +0.j        ,  0.        +0.j        ],\n",
       "       [ 0.        +0.j        ,  0.        +0.j        ,\n",
       "         0.        +0.j        ,  0.        +0.j        ,\n",
       "         0.70710678+1.22474487j, -0.5       +0.8660254j ],\n",
       "       [ 0.        +0.j        ,  0.        +0.j        ,\n",
       "         0.        +0.j        ,  0.        +0.j        ,\n",
       "        -1.        +0.j        , -0.70710678-1.22474487j]])"
      ]
     },
     "execution_count": 273,
     "metadata": {},
     "output_type": "execute_result"
    }
   ],
   "source": [
    "\n",
    "#TBS(0.5, TB_prob[2], TB_nodes[2], TBR_nodes[2])\n",
    "\n",
    "TAS(probability_cutoff, TA_prob[1], TA_nodes[1], TAR_nodes[1])\n",
    "#TB_nodes[1]"
   ]
  },
  {
   "cell_type": "code",
   "execution_count": 16,
   "metadata": {},
   "outputs": [],
   "source": [
    "test3 = FullTransfer(1000,16, 1, phases, theta)"
   ]
  },
  {
   "cell_type": "code",
   "execution_count": 18,
   "metadata": {},
   "outputs": [
    {
     "name": "stderr",
     "output_type": "stream",
     "text": [
      "No handles with labels found to put in legend.\n"
     ]
    },
    {
     "data": {
      "text/plain": [
       "<matplotlib.legend.Legend at 0x7fed8e4f2490>"
      ]
     },
     "execution_count": 18,
     "metadata": {},
     "output_type": "execute_result"
    },
    {
     "data": {
      "image/png": "[encoded data removed]",
      "text/plain": [
       "<Figure size 900x600 with 1 Axes>"
      ]
     },
     "metadata": {
      "needs_background": "light"
     },
     "output_type": "display_data"
    }
   ],
   "source": [
    "plt.figure(dpi = 150)\n",
    "plt.scatter([i for i in range(2*strip_width)], test3, s = 0.5)\n",
    "plt.legend()"
   ]
  },
  {
   "cell_type": "code",
   "execution_count": 20,
   "metadata": {},
   "outputs": [
    {
     "data": {
      "text/plain": [
       "-7.107869848255177e-12"
      ]
     },
     "execution_count": 20,
     "metadata": {},
     "output_type": "execute_result"
    }
   ],
   "source": [
    "sum(test3)"
   ]
  },
  {
   "cell_type": "code",
   "execution_count": null,
   "metadata": {},
   "outputs": [],
   "source": []
  }
 ],
 "metadata": {
  "kernelspec": {
   "display_name": "Python 3",
   "language": "python",
   "name": "python3"
  },
  "language_info": {
   "codemirror_mode": {
    "name": "ipython",
    "version": 3
   },
   "file_extension": ".py",
   "mimetype": "text/x-python",
   "name": "python",
   "nbconvert_exporter": "python",
   "pygments_lexer": "ipython3",
   "version": "3.7.5"
  }
 },
 "nbformat": 4,
 "nbformat_minor": 4
}
